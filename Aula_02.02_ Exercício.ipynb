{
 "cells": [
  {
   "cell_type": "markdown",
   "metadata": {},
   "source": [
    "### Exercício \n",
    "------------------\n",
    "Faça uma função em Python que receba um string e:\n",
    "* a) Transforme todas as letras iniciais de palavras para maiúsculas;\n",
    "* b) Todas as outras letras devem ser transformadas em minusculas;\n",
    "* c) Os artigos isolados, exceto se for a primeira letra da frase, devem ficar em caixa baixa.\n",
    "\n",
    "**Exemplo 1** : \n",
    "* In : \"a grande partidA\"\n",
    "* Out : \"A Grande Partida\"\n",
    "\n",
    "**Exemplo 2** : \n",
    "* In : \"o livro E o garato\"\n",
    "* Out : \"O Livro  e o Garoto\"\n",
    "\n"
   ]
  },
  {
   "cell_type": "code",
   "execution_count": null,
   "metadata": {},
   "outputs": [],
   "source": [
    "def formatString(s):\n",
    "    return '';\n",
    "    \n",
    "print(formatString('a grande partidA') == 'A Grande Partida');\n",
    "print(formatString('o livro E o garoto') == 'O Livro e o Garoto');"
   ]
  }
 ],
 "metadata": {
  "kernelspec": {
   "display_name": "Python 3",
   "language": "python",
   "name": "python3"
  },
  "language_info": {
   "codemirror_mode": {
    "name": "ipython",
    "version": 3
   },
   "file_extension": ".py",
   "mimetype": "text/x-python",
   "name": "python",
   "nbconvert_exporter": "python",
   "pygments_lexer": "ipython3",
   "version": "3.8.5"
  }
 },
 "nbformat": 4,
 "nbformat_minor": 2
}
