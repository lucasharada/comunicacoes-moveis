{
 "cells": [
  {
   "cell_type": "markdown",
   "metadata": {},
   "source": [
    "## Assignment"
   ]
  },
  {
   "cell_type": "markdown",
   "metadata": {},
   "source": [
    "1. Load `boston` dataset from `sklearn` into `data` variable;\n",
    "2. Normalize the data and assign to a new variable `data_normalized` using `StandardScaler` (https://scikit-learn.org/stable/modules/generated/sklearn.preprocessing.StandardScaler.html#sklearn.preprocessing.StandardScaler);\n",
    "3. Search for the best `activation`, `solver` and `hidden_layer_sizes` for `MLPRegressor` model for both `data` and `data_normalized` using `neg_mean_squared_error` as the scoring parameter;\n",
    "4. Plot RMSE Cross-Validation data for both datasets;"
   ]
  },
  {
   "cell_type": "code",
   "execution_count": null,
   "metadata": {},
   "outputs": [],
   "source": [
    "import numpy as np\n",
    "import pandas as pd\n",
    "from matplotlib import pyplot as plt\n",
    "import seaborn as sns"
   ]
  },
  {
   "cell_type": "code",
   "execution_count": null,
   "metadata": {},
   "outputs": [],
   "source": [
    "# Example for SVR\n",
    "from sklearn.datasets import load_boston\n",
    "data, target = load_boston(return_X_y = True)\n",
    "# data = boston.data\n",
    "# target = boston.target\n",
    "\n",
    "from sklearn.preprocessing import StandardScaler\n",
    "scaler = StandardScaler()\n",
    "# scaler.fit(data)\n",
    "data_normalized = scaler.fit_transform(data)\n",
    "\n",
    "from sklearn.model_selection import GridSearchCV\n",
    "from sklearn.svm import SVR\n",
    "parameters = {'kernel': ('rbf', 'sigmoid'), 'C': [5, 10]}\n",
    "svr = SVR(gamma = 'auto')\n",
    "grid = GridSearchCV(\n",
    "    svr,\n",
    "    parameters,\n",
    "    cv = 5,\n",
    "    scoring = 'neg_mean_squared_error',\n",
    "#     return_train_score = True,\n",
    "#     refit = True\n",
    ")\n",
    "grid.fit(data, target)\n",
    "# grid.fit(data_normalized, target)\n",
    "grid.best_params_"
   ]
  },
  {
   "cell_type": "code",
   "execution_count": null,
   "metadata": {},
   "outputs": [],
   "source": []
  }
 ],
 "metadata": {
  "kernelspec": {
   "display_name": "Python 3",
   "language": "python",
   "name": "python3"
  },
  "language_info": {
   "codemirror_mode": {
    "name": "ipython",
    "version": 3
   },
   "file_extension": ".py",
   "mimetype": "text/x-python",
   "name": "python",
   "nbconvert_exporter": "python",
   "pygments_lexer": "ipython3",
   "version": "3.8.5"
  }
 },
 "nbformat": 4,
 "nbformat_minor": 2
}
