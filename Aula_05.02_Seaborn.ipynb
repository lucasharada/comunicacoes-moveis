{
 "cells": [
  {
   "cell_type": "markdown",
   "metadata": {},
   "source": [
    "## seaborn: statistical data visualization (https://seaborn.pydata.org/)"
   ]
  },
  {
   "cell_type": "markdown",
   "metadata": {},
   "source": [
    "### Installing"
   ]
  },
  {
   "cell_type": "markdown",
   "metadata": {},
   "source": [
    "Choose one of the following commands:\n",
    "\n",
    "`conda install seaborn`\n",
    "\n",
    "`pip install seaborn`\n"
   ]
  },
  {
   "cell_type": "code",
   "execution_count": null,
   "metadata": {},
   "outputs": [],
   "source": [
    "import seaborn as sns\n",
    "import numpy as np\n",
    "import pandas as pd\n",
    "import matplotlib.pyplot as plt"
   ]
  },
  {
   "cell_type": "markdown",
   "metadata": {},
   "source": [
    "#### Example 01 - Distributions"
   ]
  },
  {
   "cell_type": "code",
   "execution_count": null,
   "metadata": {
    "scrolled": true
   },
   "outputs": [],
   "source": [
    "iris = sns.load_dataset('iris')\n",
    "type(iris)\n",
    "\n",
    "iris.head()\n",
    "\n",
    "# sns.distplot(iris[('sepal_width')])\n",
    "\n",
    "sns.distplot(iris['sepal_width'], kde=True, bins=20)"
   ]
  },
  {
   "cell_type": "markdown",
   "metadata": {},
   "source": [
    "#### Example 02 - Joint Plot"
   ]
  },
  {
   "cell_type": "code",
   "execution_count": null,
   "metadata": {},
   "outputs": [],
   "source": [
    "tips = sns.load_dataset('tips')\n",
    "\n",
    "print(tips.head())\n",
    "\n",
    "sns.jointplot(x = 'tip', y = 'total_bill', data = tips)\n",
    "\n",
    "# sns.jointplot(x = 'total_bill', y = 'tip', data = tips, kind = 'reg')\n",
    "# Possible kind values => ['scatter', 'resid', 'hex', 'reg', 'kde']"
   ]
  },
  {
   "cell_type": "markdown",
   "metadata": {},
   "source": [
    "#### Example 03 - Pair Plot"
   ]
  },
  {
   "cell_type": "code",
   "execution_count": null,
   "metadata": {
    "scrolled": true
   },
   "outputs": [],
   "source": [
    "#sns.pairplot(tips)\n",
    "\n",
    "sns.pairplot(tips, hue='smoker')"
   ]
  },
  {
   "cell_type": "markdown",
   "metadata": {},
   "source": [
    "#### Example 04 - Categorical plots"
   ]
  },
  {
   "cell_type": "code",
   "execution_count": null,
   "metadata": {
    "scrolled": true
   },
   "outputs": [],
   "source": [
    "tips.head()\n",
    "\n",
    "#sns.barplot(x = 'smoker', y = 'total_bill', data = tips)\n",
    "\n",
    "# sns.countplot(x = 'smoker', data = tips)\n",
    "\n",
    "# sns.boxplot(x = 'sex', y = 'total_bill', data = tips)\n",
    "\n",
    "# sns.boxplot(x = 'sex', y = 'total_bill', data = tips, hue = 'smoker')\n",
    "\n",
    "# sns.stripplot(x = 'sex', y = 'tip', data = tips)\n",
    "\n",
    "# sns.swarmplot(x = 'day', y = 'tip', data = tips)\n",
    "\n",
    "sns.catplot(x = 'day', y = 'tip', data = tips, kind = 'bar')\n",
    "#https://seaborn.pydata.org/generated/seaborn.factorplot.html"
   ]
  },
  {
   "cell_type": "markdown",
   "metadata": {},
   "source": [
    "#### Example 05 - Regression plots"
   ]
  },
  {
   "cell_type": "code",
   "execution_count": null,
   "metadata": {},
   "outputs": [],
   "source": [
    "tips.head()"
   ]
  },
  {
   "cell_type": "code",
   "execution_count": null,
   "metadata": {},
   "outputs": [],
   "source": [
    "# sns.lmplot(x = 'total_bill', y = 'tip', data = tips)\n",
    "\n",
    "# sns.lmplot(x = 'total_bill', y = 'tip', data = tips, hue = 'sex', markers=['o', 'v'])\n",
    "\n",
    "# sns.lmplot(x = 'total_bill', y = 'tip', data = tips, col = 'sex')\n",
    "\n",
    "# sns.lmplot(x = 'total_bill', y = 'tip', data = tips, col = 'sex', row = 'day')\n",
    "\n",
    "# sns.lmplot(x = 'total_bill', y = 'tip', data = tips, row = 'time', col = 'day', hue = 'sex')\n",
    "\n",
    "# sns.pairplot(iris)\n",
    "# g = sns.PairGrid(iris)\n",
    "# g.map_diag(sns.distplot)\n",
    "# g.map_lower(plt.scatter)\n",
    "# g.map_upper(sns.kdeplot)\n",
    "\n",
    "g = sns.FacetGrid(data = tips, col = 'time', row = 'sex')\n",
    "g.map(sns.distplot, 'tip')"
   ]
  }
 ],
 "metadata": {
  "kernelspec": {
   "display_name": "Python 3",
   "language": "python",
   "name": "python3"
  },
  "language_info": {
   "codemirror_mode": {
    "name": "ipython",
    "version": 3
   },
   "file_extension": ".py",
   "mimetype": "text/x-python",
   "name": "python",
   "nbconvert_exporter": "python",
   "pygments_lexer": "ipython3",
   "version": "3.8.5"
  }
 },
 "nbformat": 4,
 "nbformat_minor": 2
}
