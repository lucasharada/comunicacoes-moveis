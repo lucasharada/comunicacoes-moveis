{
 "cells": [
  {
   "cell_type": "markdown",
   "metadata": {},
   "source": [
    "Slides - https://docs.google.com/presentation/d/1zAaoknZt1HiElSZ1xmyKnzLdukAzAhftFITgd1vE2n8/edit?usp=sharing"
   ]
  },
  {
   "cell_type": "markdown",
   "metadata": {},
   "source": [
    "## Optimization problems (based on https://bit.ly/2XvchP0)"
   ]
  },
  {
   "cell_type": "markdown",
   "metadata": {},
   "source": [
    "*\"The goal of optimization is to find the best (acceptable) solution to a problem out of a large set of possible solutions.\"*\n",
    "\n",
    "**Optimization** can be defined as the process of finding the conditions that give the minimum or maximum value of a function, where the function represents the effort required or the desired benefit."
   ]
  },
  {
   "cell_type": "markdown",
   "metadata": {},
   "source": [
    "### Lateration problems"
   ]
  },
  {
   "attachments": {
    "2-D-localization-using-Trilateration.png": {
     "image/png": "[encoded data removed]"
    }
   },
   "cell_type": "markdown",
   "metadata": {},
   "source": [
    "Lateration-based mobile positioning techniques are a well-known localization method that estimate the position of an object by measuring its distances to multiple reference points called anchors.\n",
    "\n",
    "![2-D-localization-using-Trilateration.png](attachment:2-D-localization-using-Trilateration.png)"
   ]
  },
  {
   "cell_type": "markdown",
   "metadata": {},
   "source": [
    "### Optimization techniques\n",
    "\n",
    "- Simplex for linear problems;\n",
    "- Stochastic programming;\n",
    "- Game theory;\n",
    "- Simulated annealing;\n",
    "- Evolutionary algorithms;\n",
    "- Neural networks;\n",
    "\n",
    "etc."
   ]
  },
  {
   "cell_type": "markdown",
   "metadata": {},
   "source": [
    "## sci-py: Optimize (https://docs.scipy.org/doc/scipy/reference/tutorial/optimize.html)"
   ]
  },
  {
   "cell_type": "markdown",
   "metadata": {},
   "source": [
    "### Installing"
   ]
  },
  {
   "cell_type": "markdown",
   "metadata": {},
   "source": [
    "`pip install scipy`"
   ]
  },
  {
   "cell_type": "markdown",
   "metadata": {},
   "source": [
    "### Initial imports"
   ]
  },
  {
   "cell_type": "code",
   "execution_count": null,
   "metadata": {},
   "outputs": [],
   "source": [
    "import numpy as np\n",
    "import scipy\n",
    "from scipy import optimize"
   ]
  },
  {
   "cell_type": "code",
   "execution_count": null,
   "metadata": {},
   "outputs": [],
   "source": [
    "scipy.__version__"
   ]
  },
  {
   "cell_type": "markdown",
   "metadata": {},
   "source": [
    "### Example 01 - Nelder-Mead Simplex algorithm"
   ]
  },
  {
   "cell_type": "code",
   "execution_count": null,
   "metadata": {},
   "outputs": [],
   "source": [
    "def square(x):\n",
    "    return x**2;\n",
    "\n",
    "x0 = 1040\n",
    "res = optimize.minimize(square, x0, method='nelder-mead', options={'xtol': 1e-8, 'disp': True})"
   ]
  },
  {
   "cell_type": "markdown",
   "metadata": {},
   "source": [
    "### Example 02 - Finding minimum on multivariate functions"
   ]
  },
  {
   "cell_type": "code",
   "execution_count": null,
   "metadata": {
    "scrolled": true
   },
   "outputs": [],
   "source": [
    "from functools import reduce\n",
    "\n",
    "anchors = ((1, 1), (5, 5), (3, 4))\n",
    "\n",
    "def distance_squared(x):\n",
    "    #     print(x)\n",
    "    return reduce(lambda a, b: a + b, [(w - x[0]) ** 2 + (z - x[1]) ** 2 for w, z in anchors])\n",
    "\n",
    "x0 = (20, 20)\n",
    "\n",
    "print('Broyden-Fletcher-Goldfarb-Shanno algorithm\\n')\n",
    "res1 = optimize.minimize(distance_squared, x0, method='BFGS')\n",
    "print(res1)\n",
    "print(res1.x)\n",
    "\n",
    "print('\\nConstrained Optimization By Linear Approximation\\n')\n",
    "res2 = optimize.minimize(distance_squared, x0, method='COBYLA')\n",
    "print(res2)\n",
    "print(res2.x)"
   ]
  },
  {
   "cell_type": "markdown",
   "metadata": {},
   "source": [
    "### Example 03 - Finding global minimum by brute force"
   ]
  },
  {
   "cell_type": "code",
   "execution_count": null,
   "metadata": {},
   "outputs": [],
   "source": [
    "from functools import reduce\n",
    "\n",
    "anchors = ((11, 11), (4, 15), (3, 25))\n",
    "\n",
    "def distance_squared(x):\n",
    "    #     print(x)\n",
    "    return reduce(lambda a, b: a + b, [(w - x[0]) ** 2 + (z - x[1]) ** 2 for w, z in anchors])\n",
    "\n",
    "ranges = (slice(-4, 4, 0.25), slice(-4, 4, 0.25))\n",
    "\n",
    "res = optimize.brute(distance_squared, ranges)\n",
    "print(res)"
   ]
  },
  {
   "cell_type": "code",
   "execution_count": null,
   "metadata": {},
   "outputs": [],
   "source": [
    "from functools import reduce\n",
    "\n",
    "anchors = ((11, 11), (4, 15), (3, 25))\n",
    "\n",
    "def distance_squared(x):\n",
    "    #     print(x)\n",
    "    return reduce(lambda a, b: a + b, [(w - x[0]) ** 2 + (z - x[1]) ** 2 for w, z in anchors])\n",
    "\n",
    "ranges = (slice(0, 25, 0.05), slice(0, 25, 0.05))\n",
    "\n",
    "res = optimize.brute(distance_squared, ranges, finish=optimize.fmin)\n",
    "print(res)"
   ]
  },
  {
   "cell_type": "markdown",
   "metadata": {},
   "source": [
    "### Example 04 - Finding minimum using Dual Annealing"
   ]
  },
  {
   "cell_type": "code",
   "execution_count": null,
   "metadata": {},
   "outputs": [],
   "source": [
    "from functools import reduce\n",
    "\n",
    "anchors = ((11, 11), (4, 15), (3, 25))\n",
    "\n",
    "def distance_squared(x):\n",
    "    #     print(x)\n",
    "    return reduce(lambda a, b: a + b, [(w - x[0]) ** 2 + (z - x[1]) ** 2 for w, z in anchors])\n",
    "\n",
    "bounds = [(0, 25), (0, 25)]\n",
    "\n",
    "res = optimize.dual_annealing(distance_squared, bounds)\n",
    "print(res)"
   ]
  },
  {
   "cell_type": "markdown",
   "metadata": {},
   "source": [
    "### Example 05 - Finding minimum using Differential Evolution"
   ]
  },
  {
   "cell_type": "code",
   "execution_count": null,
   "metadata": {},
   "outputs": [],
   "source": [
    "from functools import reduce\n",
    "\n",
    "anchors = ((11, 11), (4, 15), (3, 25))\n",
    "\n",
    "def distance_squared(x):\n",
    "#     print(x)\n",
    "    return reduce(lambda a, b: a + b, [(w - x[0]) ** 2 + (z - x[1]) ** 2 for w, z in anchors])\n",
    "\n",
    "bounds = [(0, 25), (0, 25)]\n",
    "\n",
    "res = optimize.differential_evolution(distance_squared, bounds)\n",
    "print(res)"
   ]
  },
  {
   "cell_type": "code",
   "execution_count": null,
   "metadata": {},
   "outputs": [],
   "source": []
  }
 ],
 "metadata": {
  "kernelspec": {
   "display_name": "Python 3",
   "language": "python",
   "name": "python3"
  },
  "language_info": {
   "codemirror_mode": {
    "name": "ipython",
    "version": 3
   },
   "file_extension": ".py",
   "mimetype": "text/x-python",
   "name": "python",
   "nbconvert_exporter": "python",
   "pygments_lexer": "ipython3",
   "version": "3.8.5"
  }
 },
 "nbformat": 4,
 "nbformat_minor": 2
}
