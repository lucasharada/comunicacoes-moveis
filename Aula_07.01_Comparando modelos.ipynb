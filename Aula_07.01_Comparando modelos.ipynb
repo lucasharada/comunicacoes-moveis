{
 "cells": [
  {
   "cell_type": "markdown",
   "metadata": {},
   "source": [
    "## scikit-learn: machine learning in Python (https://scikit-learn.org/stable/)"
   ]
  },
  {
   "cell_type": "code",
   "execution_count": 1,
   "metadata": {},
   "outputs": [],
   "source": [
    "import sklearn\n",
    "import numpy as np\n",
    "import pandas as pd\n",
    "from matplotlib import pyplot as plt\n",
    "import seaborn as sns"
   ]
  },
  {
   "cell_type": "code",
   "execution_count": 2,
   "metadata": {},
   "outputs": [
    {
     "data": {
      "text/html": [
       "<div>\n",
       "<style scoped>\n",
       "    .dataframe tbody tr th:only-of-type {\n",
       "        vertical-align: middle;\n",
       "    }\n",
       "\n",
       "    .dataframe tbody tr th {\n",
       "        vertical-align: top;\n",
       "    }\n",
       "\n",
       "    .dataframe thead th {\n",
       "        text-align: right;\n",
       "    }\n",
       "</style>\n",
       "<table border=\"1\" class=\"dataframe\">\n",
       "  <thead>\n",
       "    <tr style=\"text-align: right;\">\n",
       "      <th></th>\n",
       "      <th>total_bill</th>\n",
       "      <th>tip</th>\n",
       "      <th>sex</th>\n",
       "      <th>smoker</th>\n",
       "      <th>day</th>\n",
       "      <th>time</th>\n",
       "      <th>size</th>\n",
       "    </tr>\n",
       "  </thead>\n",
       "  <tbody>\n",
       "    <tr>\n",
       "      <th>0</th>\n",
       "      <td>16.99</td>\n",
       "      <td>1.01</td>\n",
       "      <td>Female</td>\n",
       "      <td>No</td>\n",
       "      <td>Sun</td>\n",
       "      <td>Dinner</td>\n",
       "      <td>2</td>\n",
       "    </tr>\n",
       "    <tr>\n",
       "      <th>1</th>\n",
       "      <td>10.34</td>\n",
       "      <td>1.66</td>\n",
       "      <td>Male</td>\n",
       "      <td>No</td>\n",
       "      <td>Sun</td>\n",
       "      <td>Dinner</td>\n",
       "      <td>3</td>\n",
       "    </tr>\n",
       "    <tr>\n",
       "      <th>2</th>\n",
       "      <td>21.01</td>\n",
       "      <td>3.50</td>\n",
       "      <td>Male</td>\n",
       "      <td>No</td>\n",
       "      <td>Sun</td>\n",
       "      <td>Dinner</td>\n",
       "      <td>3</td>\n",
       "    </tr>\n",
       "    <tr>\n",
       "      <th>3</th>\n",
       "      <td>23.68</td>\n",
       "      <td>3.31</td>\n",
       "      <td>Male</td>\n",
       "      <td>No</td>\n",
       "      <td>Sun</td>\n",
       "      <td>Dinner</td>\n",
       "      <td>2</td>\n",
       "    </tr>\n",
       "    <tr>\n",
       "      <th>4</th>\n",
       "      <td>24.59</td>\n",
       "      <td>3.61</td>\n",
       "      <td>Female</td>\n",
       "      <td>No</td>\n",
       "      <td>Sun</td>\n",
       "      <td>Dinner</td>\n",
       "      <td>4</td>\n",
       "    </tr>\n",
       "  </tbody>\n",
       "</table>\n",
       "</div>"
      ],
      "text/plain": [
       "   total_bill   tip     sex smoker  day    time  size\n",
       "0       16.99  1.01  Female     No  Sun  Dinner     2\n",
       "1       10.34  1.66    Male     No  Sun  Dinner     3\n",
       "2       21.01  3.50    Male     No  Sun  Dinner     3\n",
       "3       23.68  3.31    Male     No  Sun  Dinner     2\n",
       "4       24.59  3.61  Female     No  Sun  Dinner     4"
      ]
     },
     "execution_count": 2,
     "metadata": {},
     "output_type": "execute_result"
    }
   ],
   "source": [
    "tips = sns.load_dataset(\"tips\")\n",
    "tips.head()"
   ]
  },
  {
   "cell_type": "markdown",
   "metadata": {},
   "source": [
    "### Comparing classification models"
   ]
  },
  {
   "cell_type": "code",
   "execution_count": 3,
   "metadata": {},
   "outputs": [
    {
     "name": "stdout",
     "output_type": "stream",
     "text": [
      "[1 1 0 0 1 1 1 1 1 1 1 1 1 0 1 1 1 1 1 1 1 1 1 1 0 1 1 0 0 0 1 1 1 1 0 1 1\n",
      " 0 1 1 1 0 0 0 1 0 1 1 1 0 1 0 1 1 1 1 1 0 1 0 0 1 0 0 0 1 0 1 0 0 1 0 0 1]\n"
     ]
    }
   ],
   "source": [
    "X = tips.drop(\"sex\", axis = 1)\n",
    "y = tips[\"sex\"]\n",
    "\n",
    "from sklearn.preprocessing import LabelEncoder\n",
    "lb = LabelEncoder()\n",
    "X['smoker'] = lb.fit_transform(X['smoker'])\n",
    "X['day'] = lb.fit_transform(X['day'])\n",
    "X['time'] = lb.fit_transform(X['time'])\n",
    "\n",
    "y = lb.fit_transform(y)\n",
    "\n",
    "from sklearn.model_selection import train_test_split\n",
    "X_train, X_test, y_train, y_test = train_test_split(X, y, test_size = 0.3, random_state = 100)\n",
    "print(y_test)"
   ]
  },
  {
   "cell_type": "code",
   "execution_count": 4,
   "metadata": {},
   "outputs": [
    {
     "data": {
      "text/plain": [
       "SVC(gamma='auto')"
      ]
     },
     "execution_count": 4,
     "metadata": {},
     "output_type": "execute_result"
    }
   ],
   "source": [
    "from sklearn.svm import SVC\n",
    "clf1 = SVC(gamma=\"auto\")\n",
    "clf1.fit(X_train, y_train)"
   ]
  },
  {
   "cell_type": "code",
   "execution_count": 5,
   "metadata": {},
   "outputs": [
    {
     "data": {
      "text/plain": [
       "array([1, 1, 1, 1, 1, 1, 1, 1, 1, 1, 1, 1, 1, 1, 1, 0, 1, 1, 1, 1, 1, 1,\n",
       "       1, 1, 1, 1, 1, 1, 1, 0, 1, 1, 1, 1, 1, 1, 1, 1, 1, 1, 1, 0, 1, 1,\n",
       "       1, 1, 1, 1, 1, 1, 1, 1, 1, 1, 1, 1, 1, 1, 1, 1, 1, 1, 0, 1, 1, 1,\n",
       "       1, 1, 1, 0, 1, 1, 0, 1])"
      ]
     },
     "execution_count": 5,
     "metadata": {},
     "output_type": "execute_result"
    }
   ],
   "source": [
    "pred1 = clf1.predict(X_test)\n",
    "pred1"
   ]
  },
  {
   "cell_type": "code",
   "execution_count": 6,
   "metadata": {},
   "outputs": [
    {
     "data": {
      "text/plain": [
       "KNeighborsClassifier()"
      ]
     },
     "execution_count": 6,
     "metadata": {},
     "output_type": "execute_result"
    }
   ],
   "source": [
    "from sklearn.neighbors import KNeighborsClassifier\n",
    "clf2 = KNeighborsClassifier(n_neighbors=5)\n",
    "clf2.fit(X_train, y_train)"
   ]
  },
  {
   "cell_type": "code",
   "execution_count": 7,
   "metadata": {},
   "outputs": [
    {
     "data": {
      "text/plain": [
       "array([1, 1, 1, 1, 1, 1, 1, 1, 1, 1, 1, 1, 1, 1, 1, 1, 1, 1, 0, 1, 1, 1,\n",
       "       1, 0, 1, 1, 1, 1, 1, 0, 1, 1, 1, 1, 1, 1, 1, 1, 1, 1, 0, 0, 1, 1,\n",
       "       1, 1, 1, 1, 1, 1, 1, 1, 1, 1, 0, 1, 1, 1, 1, 1, 1, 1, 0, 1, 1, 1,\n",
       "       1, 1, 1, 0, 1, 0, 0, 1])"
      ]
     },
     "execution_count": 7,
     "metadata": {},
     "output_type": "execute_result"
    }
   ],
   "source": [
    "pred2 = clf2.predict(X_test)\n",
    "pred2"
   ]
  },
  {
   "cell_type": "markdown",
   "metadata": {},
   "source": [
    "Classification metrics available in Scikt-learn:\n",
    "\n",
    "https://scikit-learn.org/stable/modules/model_evaluation.html#classification-metrics"
   ]
  },
  {
   "cell_type": "code",
   "execution_count": 8,
   "metadata": {},
   "outputs": [
    {
     "name": "stdout",
     "output_type": "stream",
     "text": [
      "SVC Accuracy: 0.7027027027027027; KNN Accuracy: 0.6756756756756757\n",
      "\n",
      "Confusion Matrix format:\n",
      "[[True positive False positive]\n",
      "[False negative True negative]]\n",
      "\n",
      "SVC Matrix: \n",
      "[[ 5  1]\n",
      " [21 47]]\n",
      "\n",
      "KNN Matrix: \n",
      "[[ 6  4]\n",
      " [20 44]]\n",
      "\n"
     ]
    }
   ],
   "source": [
    "from sklearn.metrics import accuracy_score, classification_report, confusion_matrix\n",
    "acc1 = accuracy_score(pred1, y_test)\n",
    "acc2 = accuracy_score(pred2, y_test)\n",
    "print(\"SVC Accuracy: {}; KNN Accuracy: {}\\n\".format(acc1, acc2))\n",
    "\n",
    "# clr1 = classification_report(pred1, y_test)\n",
    "# clr2 = classification_report(pred2, y_test)\n",
    "# print(\"SVC Report: {}\".format(clr1))\n",
    "# print(\"KNN Report: {}\".format(clr2))\n",
    "\n",
    "cmat1 = confusion_matrix(pred1, y_test)\n",
    "cmat2 = confusion_matrix(pred2, y_test)\n",
    "print(\"Confusion Matrix format:\\n[[True positive False positive]\\n[False negative True negative]]\\n\")\n",
    "print(\"SVC Matrix: \\n{}\\n\".format(cmat1))\n",
    "print(\"KNN Matrix: \\n{}\\n\".format(cmat2))"
   ]
  },
  {
   "cell_type": "markdown",
   "metadata": {},
   "source": [
    "### Comparing regression models"
   ]
  },
  {
   "cell_type": "markdown",
   "metadata": {},
   "source": [
    "#### Most common regression metrics\n",
    "##### Mean Absolute Error (MAE)\n",
    "\n",
    "$MAE=\\frac{1}{n}\\sum\\limits^{n}_{i=1}|y_i - \\hat{y}_i|$\n",
    "\n",
    "##### Mean Square Error (MSE)\n",
    "\n",
    "$MSE=\\frac{1}{n}\\sum\\limits^{n}_{i=1}(y_i - \\hat{y}_i)^2$\n",
    "\n",
    "##### Root Mean Square Error (RMSE)\n",
    "\n",
    "$RMSE=\\sqrt{\\frac{1}{n}\\sum\\limits^{n}_{i=1}(y_i - \\hat{y}_i)^2}$\n",
    "\n",
    "##### R^2 Score (Coefficient of determination)\n",
    "\n",
    "From scikit: \"Best possible score is 1.0 and it can be negative (because the model can be arbitrarily worse). A constant model that always predicts the expected value of y, disregarding the input features, would get a R^2 score of 0.0.\"\n",
    "\n",
    "https://scikit-learn.org/stable/modules/model_evaluation.html#regression-metrics"
   ]
  },
  {
   "cell_type": "code",
   "execution_count": 24,
   "metadata": {},
   "outputs": [],
   "source": [
    "X = tips.drop('tip', axis = 1)\n",
    "y = tips['tip']\n",
    "\n",
    "from sklearn.model_selection import train_test_split\n",
    "X_train, X_test, y_train, y_test = train_test_split(X, y, test_size = 0.3, random_state = 100)"
   ]
  },
  {
   "cell_type": "code",
   "execution_count": 25,
   "metadata": {},
   "outputs": [
    {
     "ename": "ValueError",
     "evalue": "could not convert string to float: 'Male'",
     "output_type": "error",
     "traceback": [
      "\u001b[0;31m---------------------------------------------------------------------------\u001b[0m",
      "\u001b[0;31mValueError\u001b[0m                                Traceback (most recent call last)",
      "\u001b[0;32m<ipython-input-25-dec2e5bcd36a>\u001b[0m in \u001b[0;36m<module>\u001b[0;34m\u001b[0m\n\u001b[1;32m      1\u001b[0m \u001b[0;32mfrom\u001b[0m \u001b[0msklearn\u001b[0m\u001b[0;34m.\u001b[0m\u001b[0msvm\u001b[0m \u001b[0;32mimport\u001b[0m \u001b[0mLinearSVR\u001b[0m\u001b[0;34m\u001b[0m\u001b[0;34m\u001b[0m\u001b[0m\n\u001b[1;32m      2\u001b[0m \u001b[0mmdl_1\u001b[0m \u001b[0;34m=\u001b[0m \u001b[0mLinearSVR\u001b[0m\u001b[0;34m(\u001b[0m\u001b[0mrandom_state\u001b[0m\u001b[0;34m=\u001b[0m\u001b[0;36m0\u001b[0m\u001b[0;34m,\u001b[0m \u001b[0mtol\u001b[0m\u001b[0;34m=\u001b[0m\u001b[0;36m1e-5\u001b[0m\u001b[0;34m)\u001b[0m\u001b[0;34m\u001b[0m\u001b[0;34m\u001b[0m\u001b[0m\n\u001b[0;32m----> 3\u001b[0;31m \u001b[0mmdl_1\u001b[0m\u001b[0;34m.\u001b[0m\u001b[0mfit\u001b[0m\u001b[0;34m(\u001b[0m\u001b[0mX_train\u001b[0m\u001b[0;34m,\u001b[0m \u001b[0my_train\u001b[0m\u001b[0;34m)\u001b[0m\u001b[0;34m\u001b[0m\u001b[0;34m\u001b[0m\u001b[0m\n\u001b[0m\u001b[1;32m      4\u001b[0m \u001b[0;34m\u001b[0m\u001b[0m\n\u001b[1;32m      5\u001b[0m \u001b[0my_pred_1\u001b[0m \u001b[0;34m=\u001b[0m \u001b[0mmdl_1\u001b[0m\u001b[0;34m.\u001b[0m\u001b[0mpredict\u001b[0m\u001b[0;34m(\u001b[0m\u001b[0mX_test\u001b[0m\u001b[0;34m)\u001b[0m\u001b[0;34m\u001b[0m\u001b[0;34m\u001b[0m\u001b[0m\n",
      "\u001b[0;32m~/opt/anaconda3/lib/python3.8/site-packages/sklearn/svm/_classes.py\u001b[0m in \u001b[0;36mfit\u001b[0;34m(self, X, y, sample_weight)\u001b[0m\n\u001b[1;32m    412\u001b[0m                              % self.C)\n\u001b[1;32m    413\u001b[0m \u001b[0;34m\u001b[0m\u001b[0m\n\u001b[0;32m--> 414\u001b[0;31m         X, y = self._validate_data(X, y, accept_sparse='csr',\n\u001b[0m\u001b[1;32m    415\u001b[0m                                    \u001b[0mdtype\u001b[0m\u001b[0;34m=\u001b[0m\u001b[0mnp\u001b[0m\u001b[0;34m.\u001b[0m\u001b[0mfloat64\u001b[0m\u001b[0;34m,\u001b[0m \u001b[0morder\u001b[0m\u001b[0;34m=\u001b[0m\u001b[0;34m\"C\"\u001b[0m\u001b[0;34m,\u001b[0m\u001b[0;34m\u001b[0m\u001b[0;34m\u001b[0m\u001b[0m\n\u001b[1;32m    416\u001b[0m                                    accept_large_sparse=False)\n",
      "\u001b[0;32m~/opt/anaconda3/lib/python3.8/site-packages/sklearn/base.py\u001b[0m in \u001b[0;36m_validate_data\u001b[0;34m(self, X, y, reset, validate_separately, **check_params)\u001b[0m\n\u001b[1;32m    430\u001b[0m                 \u001b[0my\u001b[0m \u001b[0;34m=\u001b[0m \u001b[0mcheck_array\u001b[0m\u001b[0;34m(\u001b[0m\u001b[0my\u001b[0m\u001b[0;34m,\u001b[0m \u001b[0;34m**\u001b[0m\u001b[0mcheck_y_params\u001b[0m\u001b[0;34m)\u001b[0m\u001b[0;34m\u001b[0m\u001b[0;34m\u001b[0m\u001b[0m\n\u001b[1;32m    431\u001b[0m             \u001b[0;32melse\u001b[0m\u001b[0;34m:\u001b[0m\u001b[0;34m\u001b[0m\u001b[0;34m\u001b[0m\u001b[0m\n\u001b[0;32m--> 432\u001b[0;31m                 \u001b[0mX\u001b[0m\u001b[0;34m,\u001b[0m \u001b[0my\u001b[0m \u001b[0;34m=\u001b[0m \u001b[0mcheck_X_y\u001b[0m\u001b[0;34m(\u001b[0m\u001b[0mX\u001b[0m\u001b[0;34m,\u001b[0m \u001b[0my\u001b[0m\u001b[0;34m,\u001b[0m \u001b[0;34m**\u001b[0m\u001b[0mcheck_params\u001b[0m\u001b[0;34m)\u001b[0m\u001b[0;34m\u001b[0m\u001b[0;34m\u001b[0m\u001b[0m\n\u001b[0m\u001b[1;32m    433\u001b[0m             \u001b[0mout\u001b[0m \u001b[0;34m=\u001b[0m \u001b[0mX\u001b[0m\u001b[0;34m,\u001b[0m \u001b[0my\u001b[0m\u001b[0;34m\u001b[0m\u001b[0;34m\u001b[0m\u001b[0m\n\u001b[1;32m    434\u001b[0m \u001b[0;34m\u001b[0m\u001b[0m\n",
      "\u001b[0;32m~/opt/anaconda3/lib/python3.8/site-packages/sklearn/utils/validation.py\u001b[0m in \u001b[0;36minner_f\u001b[0;34m(*args, **kwargs)\u001b[0m\n\u001b[1;32m     70\u001b[0m                           FutureWarning)\n\u001b[1;32m     71\u001b[0m         \u001b[0mkwargs\u001b[0m\u001b[0;34m.\u001b[0m\u001b[0mupdate\u001b[0m\u001b[0;34m(\u001b[0m\u001b[0;34m{\u001b[0m\u001b[0mk\u001b[0m\u001b[0;34m:\u001b[0m \u001b[0marg\u001b[0m \u001b[0;32mfor\u001b[0m \u001b[0mk\u001b[0m\u001b[0;34m,\u001b[0m \u001b[0marg\u001b[0m \u001b[0;32min\u001b[0m \u001b[0mzip\u001b[0m\u001b[0;34m(\u001b[0m\u001b[0msig\u001b[0m\u001b[0;34m.\u001b[0m\u001b[0mparameters\u001b[0m\u001b[0;34m,\u001b[0m \u001b[0margs\u001b[0m\u001b[0;34m)\u001b[0m\u001b[0;34m}\u001b[0m\u001b[0;34m)\u001b[0m\u001b[0;34m\u001b[0m\u001b[0;34m\u001b[0m\u001b[0m\n\u001b[0;32m---> 72\u001b[0;31m         \u001b[0;32mreturn\u001b[0m \u001b[0mf\u001b[0m\u001b[0;34m(\u001b[0m\u001b[0;34m**\u001b[0m\u001b[0mkwargs\u001b[0m\u001b[0;34m)\u001b[0m\u001b[0;34m\u001b[0m\u001b[0;34m\u001b[0m\u001b[0m\n\u001b[0m\u001b[1;32m     73\u001b[0m     \u001b[0;32mreturn\u001b[0m \u001b[0minner_f\u001b[0m\u001b[0;34m\u001b[0m\u001b[0;34m\u001b[0m\u001b[0m\n\u001b[1;32m     74\u001b[0m \u001b[0;34m\u001b[0m\u001b[0m\n",
      "\u001b[0;32m~/opt/anaconda3/lib/python3.8/site-packages/sklearn/utils/validation.py\u001b[0m in \u001b[0;36mcheck_X_y\u001b[0;34m(X, y, accept_sparse, accept_large_sparse, dtype, order, copy, force_all_finite, ensure_2d, allow_nd, multi_output, ensure_min_samples, ensure_min_features, y_numeric, estimator)\u001b[0m\n\u001b[1;32m    793\u001b[0m         \u001b[0;32mraise\u001b[0m \u001b[0mValueError\u001b[0m\u001b[0;34m(\u001b[0m\u001b[0;34m\"y cannot be None\"\u001b[0m\u001b[0;34m)\u001b[0m\u001b[0;34m\u001b[0m\u001b[0;34m\u001b[0m\u001b[0m\n\u001b[1;32m    794\u001b[0m \u001b[0;34m\u001b[0m\u001b[0m\n\u001b[0;32m--> 795\u001b[0;31m     X = check_array(X, accept_sparse=accept_sparse,\n\u001b[0m\u001b[1;32m    796\u001b[0m                     \u001b[0maccept_large_sparse\u001b[0m\u001b[0;34m=\u001b[0m\u001b[0maccept_large_sparse\u001b[0m\u001b[0;34m,\u001b[0m\u001b[0;34m\u001b[0m\u001b[0;34m\u001b[0m\u001b[0m\n\u001b[1;32m    797\u001b[0m                     \u001b[0mdtype\u001b[0m\u001b[0;34m=\u001b[0m\u001b[0mdtype\u001b[0m\u001b[0;34m,\u001b[0m \u001b[0morder\u001b[0m\u001b[0;34m=\u001b[0m\u001b[0morder\u001b[0m\u001b[0;34m,\u001b[0m \u001b[0mcopy\u001b[0m\u001b[0;34m=\u001b[0m\u001b[0mcopy\u001b[0m\u001b[0;34m,\u001b[0m\u001b[0;34m\u001b[0m\u001b[0;34m\u001b[0m\u001b[0m\n",
      "\u001b[0;32m~/opt/anaconda3/lib/python3.8/site-packages/sklearn/utils/validation.py\u001b[0m in \u001b[0;36minner_f\u001b[0;34m(*args, **kwargs)\u001b[0m\n\u001b[1;32m     70\u001b[0m                           FutureWarning)\n\u001b[1;32m     71\u001b[0m         \u001b[0mkwargs\u001b[0m\u001b[0;34m.\u001b[0m\u001b[0mupdate\u001b[0m\u001b[0;34m(\u001b[0m\u001b[0;34m{\u001b[0m\u001b[0mk\u001b[0m\u001b[0;34m:\u001b[0m \u001b[0marg\u001b[0m \u001b[0;32mfor\u001b[0m \u001b[0mk\u001b[0m\u001b[0;34m,\u001b[0m \u001b[0marg\u001b[0m \u001b[0;32min\u001b[0m \u001b[0mzip\u001b[0m\u001b[0;34m(\u001b[0m\u001b[0msig\u001b[0m\u001b[0;34m.\u001b[0m\u001b[0mparameters\u001b[0m\u001b[0;34m,\u001b[0m \u001b[0margs\u001b[0m\u001b[0;34m)\u001b[0m\u001b[0;34m}\u001b[0m\u001b[0;34m)\u001b[0m\u001b[0;34m\u001b[0m\u001b[0;34m\u001b[0m\u001b[0m\n\u001b[0;32m---> 72\u001b[0;31m         \u001b[0;32mreturn\u001b[0m \u001b[0mf\u001b[0m\u001b[0;34m(\u001b[0m\u001b[0;34m**\u001b[0m\u001b[0mkwargs\u001b[0m\u001b[0;34m)\u001b[0m\u001b[0;34m\u001b[0m\u001b[0;34m\u001b[0m\u001b[0m\n\u001b[0m\u001b[1;32m     73\u001b[0m     \u001b[0;32mreturn\u001b[0m \u001b[0minner_f\u001b[0m\u001b[0;34m\u001b[0m\u001b[0;34m\u001b[0m\u001b[0m\n\u001b[1;32m     74\u001b[0m \u001b[0;34m\u001b[0m\u001b[0m\n",
      "\u001b[0;32m~/opt/anaconda3/lib/python3.8/site-packages/sklearn/utils/validation.py\u001b[0m in \u001b[0;36mcheck_array\u001b[0;34m(array, accept_sparse, accept_large_sparse, dtype, order, copy, force_all_finite, ensure_2d, allow_nd, ensure_min_samples, ensure_min_features, estimator)\u001b[0m\n\u001b[1;32m    596\u001b[0m                     \u001b[0marray\u001b[0m \u001b[0;34m=\u001b[0m \u001b[0marray\u001b[0m\u001b[0;34m.\u001b[0m\u001b[0mastype\u001b[0m\u001b[0;34m(\u001b[0m\u001b[0mdtype\u001b[0m\u001b[0;34m,\u001b[0m \u001b[0mcasting\u001b[0m\u001b[0;34m=\u001b[0m\u001b[0;34m\"unsafe\"\u001b[0m\u001b[0;34m,\u001b[0m \u001b[0mcopy\u001b[0m\u001b[0;34m=\u001b[0m\u001b[0;32mFalse\u001b[0m\u001b[0;34m)\u001b[0m\u001b[0;34m\u001b[0m\u001b[0;34m\u001b[0m\u001b[0m\n\u001b[1;32m    597\u001b[0m                 \u001b[0;32melse\u001b[0m\u001b[0;34m:\u001b[0m\u001b[0;34m\u001b[0m\u001b[0;34m\u001b[0m\u001b[0m\n\u001b[0;32m--> 598\u001b[0;31m                     \u001b[0marray\u001b[0m \u001b[0;34m=\u001b[0m \u001b[0mnp\u001b[0m\u001b[0;34m.\u001b[0m\u001b[0masarray\u001b[0m\u001b[0;34m(\u001b[0m\u001b[0marray\u001b[0m\u001b[0;34m,\u001b[0m \u001b[0morder\u001b[0m\u001b[0;34m=\u001b[0m\u001b[0morder\u001b[0m\u001b[0;34m,\u001b[0m \u001b[0mdtype\u001b[0m\u001b[0;34m=\u001b[0m\u001b[0mdtype\u001b[0m\u001b[0;34m)\u001b[0m\u001b[0;34m\u001b[0m\u001b[0;34m\u001b[0m\u001b[0m\n\u001b[0m\u001b[1;32m    599\u001b[0m             \u001b[0;32mexcept\u001b[0m \u001b[0mComplexWarning\u001b[0m\u001b[0;34m:\u001b[0m\u001b[0;34m\u001b[0m\u001b[0;34m\u001b[0m\u001b[0m\n\u001b[1;32m    600\u001b[0m                 raise ValueError(\"Complex data not supported\\n\"\n",
      "\u001b[0;32m~/opt/anaconda3/lib/python3.8/site-packages/numpy/core/_asarray.py\u001b[0m in \u001b[0;36masarray\u001b[0;34m(a, dtype, order)\u001b[0m\n\u001b[1;32m     81\u001b[0m \u001b[0;34m\u001b[0m\u001b[0m\n\u001b[1;32m     82\u001b[0m     \"\"\"\n\u001b[0;32m---> 83\u001b[0;31m     \u001b[0;32mreturn\u001b[0m \u001b[0marray\u001b[0m\u001b[0;34m(\u001b[0m\u001b[0ma\u001b[0m\u001b[0;34m,\u001b[0m \u001b[0mdtype\u001b[0m\u001b[0;34m,\u001b[0m \u001b[0mcopy\u001b[0m\u001b[0;34m=\u001b[0m\u001b[0;32mFalse\u001b[0m\u001b[0;34m,\u001b[0m \u001b[0morder\u001b[0m\u001b[0;34m=\u001b[0m\u001b[0morder\u001b[0m\u001b[0;34m)\u001b[0m\u001b[0;34m\u001b[0m\u001b[0;34m\u001b[0m\u001b[0m\n\u001b[0m\u001b[1;32m     84\u001b[0m \u001b[0;34m\u001b[0m\u001b[0m\n\u001b[1;32m     85\u001b[0m \u001b[0;34m\u001b[0m\u001b[0m\n",
      "\u001b[0;32m~/opt/anaconda3/lib/python3.8/site-packages/pandas/core/generic.py\u001b[0m in \u001b[0;36m__array__\u001b[0;34m(self, dtype)\u001b[0m\n\u001b[1;32m   1779\u001b[0m \u001b[0;34m\u001b[0m\u001b[0m\n\u001b[1;32m   1780\u001b[0m     \u001b[0;32mdef\u001b[0m \u001b[0m__array__\u001b[0m\u001b[0;34m(\u001b[0m\u001b[0mself\u001b[0m\u001b[0;34m,\u001b[0m \u001b[0mdtype\u001b[0m\u001b[0;34m=\u001b[0m\u001b[0;32mNone\u001b[0m\u001b[0;34m)\u001b[0m \u001b[0;34m->\u001b[0m \u001b[0mnp\u001b[0m\u001b[0;34m.\u001b[0m\u001b[0mndarray\u001b[0m\u001b[0;34m:\u001b[0m\u001b[0;34m\u001b[0m\u001b[0;34m\u001b[0m\u001b[0m\n\u001b[0;32m-> 1781\u001b[0;31m         \u001b[0;32mreturn\u001b[0m \u001b[0mnp\u001b[0m\u001b[0;34m.\u001b[0m\u001b[0masarray\u001b[0m\u001b[0;34m(\u001b[0m\u001b[0mself\u001b[0m\u001b[0;34m.\u001b[0m\u001b[0m_values\u001b[0m\u001b[0;34m,\u001b[0m \u001b[0mdtype\u001b[0m\u001b[0;34m=\u001b[0m\u001b[0mdtype\u001b[0m\u001b[0;34m)\u001b[0m\u001b[0;34m\u001b[0m\u001b[0;34m\u001b[0m\u001b[0m\n\u001b[0m\u001b[1;32m   1782\u001b[0m \u001b[0;34m\u001b[0m\u001b[0m\n\u001b[1;32m   1783\u001b[0m     \u001b[0;32mdef\u001b[0m \u001b[0m__array_wrap__\u001b[0m\u001b[0;34m(\u001b[0m\u001b[0mself\u001b[0m\u001b[0;34m,\u001b[0m \u001b[0mresult\u001b[0m\u001b[0;34m,\u001b[0m \u001b[0mcontext\u001b[0m\u001b[0;34m=\u001b[0m\u001b[0;32mNone\u001b[0m\u001b[0;34m)\u001b[0m\u001b[0;34m:\u001b[0m\u001b[0;34m\u001b[0m\u001b[0;34m\u001b[0m\u001b[0m\n",
      "\u001b[0;32m~/opt/anaconda3/lib/python3.8/site-packages/numpy/core/_asarray.py\u001b[0m in \u001b[0;36masarray\u001b[0;34m(a, dtype, order)\u001b[0m\n\u001b[1;32m     81\u001b[0m \u001b[0;34m\u001b[0m\u001b[0m\n\u001b[1;32m     82\u001b[0m     \"\"\"\n\u001b[0;32m---> 83\u001b[0;31m     \u001b[0;32mreturn\u001b[0m \u001b[0marray\u001b[0m\u001b[0;34m(\u001b[0m\u001b[0ma\u001b[0m\u001b[0;34m,\u001b[0m \u001b[0mdtype\u001b[0m\u001b[0;34m,\u001b[0m \u001b[0mcopy\u001b[0m\u001b[0;34m=\u001b[0m\u001b[0;32mFalse\u001b[0m\u001b[0;34m,\u001b[0m \u001b[0morder\u001b[0m\u001b[0;34m=\u001b[0m\u001b[0morder\u001b[0m\u001b[0;34m)\u001b[0m\u001b[0;34m\u001b[0m\u001b[0;34m\u001b[0m\u001b[0m\n\u001b[0m\u001b[1;32m     84\u001b[0m \u001b[0;34m\u001b[0m\u001b[0m\n\u001b[1;32m     85\u001b[0m \u001b[0;34m\u001b[0m\u001b[0m\n",
      "\u001b[0;31mValueError\u001b[0m: could not convert string to float: 'Male'"
     ]
    }
   ],
   "source": [
    "from sklearn.svm import LinearSVR \n",
    "mdl_1 = LinearSVR(random_state=0, tol=1e-5)\n",
    "mdl_1.fit(X_train, y_train)\n",
    "\n",
    "y_pred_1 = mdl_1.predict(X_test)"
   ]
  },
  {
   "cell_type": "code",
   "execution_count": 26,
   "metadata": {},
   "outputs": [],
   "source": [
    "from sklearn.preprocessing import LabelEncoder\n",
    "lb = LabelEncoder()\n",
    "X['sex'] = lb.fit_transform(X['sex'])\n",
    "X['smoker'] = lb.fit_transform(X['smoker'])\n",
    "X['day'] = lb.fit_transform(X['day'])\n",
    "X['time'] = lb.fit_transform(X['time'])\n",
    "\n",
    "from sklearn.model_selection import train_test_split\n",
    "X_train, X_test, y_train, y_test = train_test_split(X, y, test_size = 0.3, random_state = 100)"
   ]
  },
  {
   "cell_type": "code",
   "execution_count": 27,
   "metadata": {},
   "outputs": [
    {
     "name": "stderr",
     "output_type": "stream",
     "text": [
      "/Users/lucasharada/opt/anaconda3/lib/python3.8/site-packages/sklearn/svm/_base.py:976: ConvergenceWarning: Liblinear failed to converge, increase the number of iterations.\n",
      "  warnings.warn(\"Liblinear failed to converge, increase \"\n"
     ]
    }
   ],
   "source": [
    "from sklearn.svm import LinearSVR \n",
    "mdl_1 = LinearSVR(random_state=0, tol=1e-5)\n",
    "mdl_1.fit(X_train, y_train)\n",
    "\n",
    "y_pred_1 = mdl_1.predict(X_test)"
   ]
  },
  {
   "cell_type": "code",
   "execution_count": 28,
   "metadata": {},
   "outputs": [],
   "source": [
    "from sklearn.ensemble import RandomForestRegressor\n",
    "mdl_2 = RandomForestRegressor(max_depth = 2, random_state = 0)\n",
    "mdl_2.fit(X_train, y_train)\n",
    "\n",
    "y_pred_2 = mdl_2.predict(X_test)"
   ]
  },
  {
   "cell_type": "code",
   "execution_count": 29,
   "metadata": {},
   "outputs": [],
   "source": [
    "from sklearn.linear_model import Lasso\n",
    "mdl_mvt = Lasso(alpha=0.02)\n",
    "mdl_mvt.fit(X_train, y_train)\n",
    "\n",
    "y_pred_mvt = mdl_mvt.predict(X_test)"
   ]
  },
  {
   "cell_type": "code",
   "execution_count": 30,
   "metadata": {
    "scrolled": true
   },
   "outputs": [],
   "source": [
    "from sklearn.neighbors import KNeighborsRegressor\n",
    "mdl_abcr = KNeighborsRegressor(n_neighbors = 10)\n",
    "mdl_abcr.fit(X_train, y_train)\n",
    "\n",
    "y_pred_abcr = mdl_abcr.predict(X_test)"
   ]
  },
  {
   "cell_type": "code",
   "execution_count": 31,
   "metadata": {
    "scrolled": true
   },
   "outputs": [],
   "source": [
    "from sklearn.metrics import mean_absolute_error, mean_squared_error, r2_score\n",
    "results = [\n",
    "    [mean_absolute_error(y_test, y_pred_1), mean_squared_error(y_test, y_pred_1), np.sqrt(mean_squared_error(y_test, y_pred_1)), r2_score(y_test, y_pred_1)],\n",
    "    [mean_absolute_error(y_test, y_pred_2), mean_squared_error(y_test, y_pred_2), np.sqrt(mean_squared_error(y_test, y_pred_2)), r2_score(y_test, y_pred_2)],\n",
    "    [mean_absolute_error(y_test, y_pred_abcr), mean_squared_error(y_test, y_pred_abcr), np.sqrt(mean_squared_error(y_test, y_pred_abcr)), r2_score(y_test, y_pred_abcr)],\n",
    "    [mean_absolute_error(y_test, y_pred_mvt), mean_squared_error(y_test, y_pred_mvt), np.sqrt(mean_squared_error(y_test, y_pred_mvt)), r2_score(y_test, y_pred_mvt)],\n",
    "]"
   ]
  },
  {
   "cell_type": "code",
   "execution_count": 32,
   "metadata": {},
   "outputs": [
    {
     "data": {
      "text/plain": [
       "Text(0, 0.5, 'R2')"
      ]
     },
     "execution_count": 32,
     "metadata": {},
     "output_type": "execute_result"
    },
    {
     "data": {
      "image/png": "[encoded data removed]",
      "text/plain": [
       "<Figure size 1080x720 with 4 Axes>"
      ]
     },
     "metadata": {
      "needs_background": "light"
     },
     "output_type": "display_data"
    }
   ],
   "source": [
    "f, (ax1, ax2, ax3, ax4) = plt.subplots(4, 1, figsize=(15, 10), sharex=True)\n",
    "\n",
    "x = np.array(['1', '2', 'abcr', 'mvt'])\n",
    "sns.barplot(x = x, y = list(map(lambda r: r[0], results)), palette=\"rocket\", ax = ax1)\n",
    "sns.barplot(x = x, y = list(map(lambda r: r[1], results)), palette=\"rocket\", ax = ax2)\n",
    "sns.barplot(x = x, y = list(map(lambda r: r[2], results)), palette=\"rocket\", ax = ax3)\n",
    "sns.barplot(x = x, y = list(map(lambda r: r[3], results)), palette=\"rocket\", ax = ax4)\n",
    "ax1.axhline(0, color=\"k\")\n",
    "ax1.set_ylabel(\"MAE\")\n",
    "ax2.axhline(0, color=\"k\")\n",
    "ax2.set_ylabel(\"MSE\")\n",
    "ax3.axhline(0, color=\"k\")\n",
    "ax3.set_ylabel(\"RMSE\")\n",
    "ax4.axhline(0, color=\"k\")\n",
    "ax4.set_ylabel(\"R2\")"
   ]
  },
  {
   "cell_type": "markdown",
   "metadata": {},
   "source": [
    "### Finding optimal parameters"
   ]
  },
  {
   "cell_type": "code",
   "execution_count": 33,
   "metadata": {},
   "outputs": [
    {
     "name": "stdout",
     "output_type": "stream",
     "text": [
      "Best number of neighbors is 21 with RMSE equals to 1.149155019699308\n"
     ]
    }
   ],
   "source": [
    "from sklearn.neighbors import KNeighborsRegressor\n",
    "ks = np.arange(1,51)\n",
    "results = np.zeros(50)\n",
    "for k in ks:\n",
    "    knn = KNeighborsRegressor(n_neighbors = k)\n",
    "    knn.fit(X_train, y_train)\n",
    "    y_pred = knn.predict(X_test)\n",
    "    results[k-1] = np.sqrt(mean_squared_error(y_test, y_pred))\n",
    "best_k = results.argmin() + 1\n",
    "low_rmse = results.min()\n",
    "print (\"Best number of neighbors is {} with RMSE equals to {}\".format(best_k, low_rmse))    "
   ]
  },
  {
   "cell_type": "code",
   "execution_count": 34,
   "metadata": {},
   "outputs": [
    {
     "data": {
      "text/plain": [
       "Text(0.5, 1.0, 'RMSE vs Number of neighbors')"
      ]
     },
     "execution_count": 34,
     "metadata": {},
     "output_type": "execute_result"
    },
    {
     "data": {
      "image/png": "[encoded data removed]",
      "text/plain": [
       "<Figure size 864x432 with 1 Axes>"
      ]
     },
     "metadata": {
      "needs_background": "light"
     },
     "output_type": "display_data"
    }
   ],
   "source": [
    "plt.figure(figsize=(12, 6))\n",
    "plt.plot(ks, results, marker='o', linestyle='--', color='blue')\n",
    "plt.title(\"RMSE vs Number of neighbors\")"
   ]
  },
  {
   "cell_type": "markdown",
   "metadata": {
    "collapsed": true
   },
   "source": [
    "#### Cross-validation - http://scikit-learn.org/stable/modules/model_evaluation.html"
   ]
  },
  {
   "cell_type": "code",
   "execution_count": 37,
   "metadata": {},
   "outputs": [
    {
     "name": "stdout",
     "output_type": "stream",
     "text": [
      "{'n_neighbors': 27}\n",
      "{'mean_fit_time': array([0.00641832, 0.00379329, 0.00593531, 0.00827668, 0.003052  ,\n",
      "       0.00260072, 0.01541798, 0.0060281 , 0.00616269, 0.00281289,\n",
      "       0.00723555, 0.01530168, 0.00225711, 0.00438187, 0.00247025,\n",
      "       0.00252311, 0.00245228, 0.0071945 , 0.00734818, 0.00514295,\n",
      "       0.00503075, 0.00658205, 0.00642433, 0.00231419, 0.00702906,\n",
      "       0.00611401, 0.00509794, 0.0044868 , 0.00283489, 0.00224168,\n",
      "       0.00252988, 0.00375564, 0.00584705, 0.0024111 , 0.00460324,\n",
      "       0.00810666, 0.00678127, 0.00350475, 0.00232487, 0.00644908,\n",
      "       0.00471098, 0.00779974, 0.00245831, 0.00263309, 0.00194623,\n",
      "       0.00607541, 0.00220947, 0.00237443, 0.00234859, 0.0018954 ]), 'std_fit_time': array([0.01051945, 0.00304702, 0.01088469, 0.01144812, 0.00156832,\n",
      "       0.00116772, 0.0310465 , 0.00784069, 0.0098217 , 0.00069081,\n",
      "       0.009904  , 0.0303237 , 0.00121302, 0.00675141, 0.00051874,\n",
      "       0.00050903, 0.00058855, 0.00929562, 0.00938778, 0.00582965,\n",
      "       0.00711805, 0.01351766, 0.00810468, 0.00055816, 0.00768286,\n",
      "       0.00928306, 0.00670349, 0.00545762, 0.00324544, 0.00051038,\n",
      "       0.00042753, 0.00494798, 0.00703332, 0.00064729, 0.00523644,\n",
      "       0.01474985, 0.01304678, 0.00403666, 0.00050728, 0.0082143 ,\n",
      "       0.00821166, 0.01348546, 0.00052245, 0.00161782, 0.0004753 ,\n",
      "       0.01162412, 0.00050363, 0.00054054, 0.00169895, 0.00043039]), 'mean_score_time': array([0.00270171, 0.01424007, 0.00424912, 0.00919209, 0.00534716,\n",
      "       0.00660543, 0.01479423, 0.00482273, 0.00308793, 0.00278549,\n",
      "       0.0116348 , 0.00458009, 0.00412612, 0.00209372, 0.0023092 ,\n",
      "       0.00253491, 0.00218415, 0.00407917, 0.00722244, 0.00282404,\n",
      "       0.00233748, 0.00697868, 0.00495396, 0.00702095, 0.00685163,\n",
      "       0.00450091, 0.00481255, 0.00480747, 0.00605979, 0.00206547,\n",
      "       0.00303991, 0.00487096, 0.00398066, 0.00233259, 0.00219657,\n",
      "       0.00268898, 0.0028239 , 0.00199451, 0.00202041, 0.00492735,\n",
      "       0.00461879, 0.0020334 , 0.00257518, 0.00297105, 0.00464129,\n",
      "       0.00178437, 0.00732327, 0.0028558 , 0.00524278, 0.00181611]), 'std_score_time': array([0.00076231, 0.02128683, 0.0050357 , 0.01295617, 0.00874561,\n",
      "       0.00692391, 0.01680149, 0.00584832, 0.00251349, 0.00092037,\n",
      "       0.01867606, 0.00497693, 0.0069104 , 0.00055737, 0.00051199,\n",
      "       0.00037437, 0.00047247, 0.00282944, 0.00799805, 0.00282246,\n",
      "       0.0012274 , 0.0088276 , 0.00746445, 0.00738824, 0.01009486,\n",
      "       0.00808148, 0.00498867, 0.00618426, 0.00877448, 0.0003714 ,\n",
      "       0.00292357, 0.00702694, 0.00528284, 0.00065999, 0.00068843,\n",
      "       0.0016885 , 0.00314017, 0.00046591, 0.000441  , 0.00685587,\n",
      "       0.00694122, 0.00053792, 0.00085984, 0.0033205 , 0.00560604,\n",
      "       0.00032488, 0.01000076, 0.00131269, 0.00599741, 0.00031017]), 'param_n_neighbors': masked_array(data=[1, 2, 3, 4, 5, 6, 7, 8, 9, 10, 11, 12, 13, 14, 15, 16,\n",
      "                   17, 18, 19, 20, 21, 22, 23, 24, 25, 26, 27, 28, 29, 30,\n",
      "                   31, 32, 33, 34, 35, 36, 37, 38, 39, 40, 41, 42, 43, 44,\n",
      "                   45, 46, 47, 48, 49, 50],\n",
      "             mask=[False, False, False, False, False, False, False, False,\n",
      "                   False, False, False, False, False, False, False, False,\n",
      "                   False, False, False, False, False, False, False, False,\n",
      "                   False, False, False, False, False, False, False, False,\n",
      "                   False, False, False, False, False, False, False, False,\n",
      "                   False, False, False, False, False, False, False, False,\n",
      "                   False, False],\n",
      "       fill_value='?',\n",
      "            dtype=object), 'params': [{'n_neighbors': 1}, {'n_neighbors': 2}, {'n_neighbors': 3}, {'n_neighbors': 4}, {'n_neighbors': 5}, {'n_neighbors': 6}, {'n_neighbors': 7}, {'n_neighbors': 8}, {'n_neighbors': 9}, {'n_neighbors': 10}, {'n_neighbors': 11}, {'n_neighbors': 12}, {'n_neighbors': 13}, {'n_neighbors': 14}, {'n_neighbors': 15}, {'n_neighbors': 16}, {'n_neighbors': 17}, {'n_neighbors': 18}, {'n_neighbors': 19}, {'n_neighbors': 20}, {'n_neighbors': 21}, {'n_neighbors': 22}, {'n_neighbors': 23}, {'n_neighbors': 24}, {'n_neighbors': 25}, {'n_neighbors': 26}, {'n_neighbors': 27}, {'n_neighbors': 28}, {'n_neighbors': 29}, {'n_neighbors': 30}, {'n_neighbors': 31}, {'n_neighbors': 32}, {'n_neighbors': 33}, {'n_neighbors': 34}, {'n_neighbors': 35}, {'n_neighbors': 36}, {'n_neighbors': 37}, {'n_neighbors': 38}, {'n_neighbors': 39}, {'n_neighbors': 40}, {'n_neighbors': 41}, {'n_neighbors': 42}, {'n_neighbors': 43}, {'n_neighbors': 44}, {'n_neighbors': 45}, {'n_neighbors': 46}, {'n_neighbors': 47}, {'n_neighbors': 48}, {'n_neighbors': 49}, {'n_neighbors': 50}], 'split0_test_score': array([-1.15369412, -1.08971912, -0.82910261, -0.70191618, -0.67941859,\n",
      "       -0.43644314, -0.40475846, -0.39899871, -0.3237528 , -0.34566906,\n",
      "       -0.37286845, -0.35623374, -0.35430209, -0.34160384, -0.29952991,\n",
      "       -0.31137302, -0.31516139, -0.33125174, -0.32974281, -0.32359379,\n",
      "       -0.34518446, -0.34021864, -0.35822966, -0.33327471, -0.34549282,\n",
      "       -0.34395017, -0.35237958, -0.35946143, -0.37215696, -0.38068796,\n",
      "       -0.37343264, -0.37242405, -0.36109096, -0.35810469, -0.35835461,\n",
      "       -0.3556651 , -0.36429256, -0.38698019, -0.39584738, -0.40137014,\n",
      "       -0.41078506, -0.41195658, -0.41026036, -0.42137326, -0.42006188,\n",
      "       -0.42729139, -0.42791484, -0.42416568, -0.41599985, -0.42061541]), 'split1_test_score': array([-4.14029412, -3.60560441, -3.62055948, -3.53643529, -3.56530447,\n",
      "       -3.63504477, -3.5137102 , -3.45998235, -3.17722121, -3.16896729,\n",
      "       -3.36347389, -3.21011001, -3.20547999, -3.21038971, -3.0886863 ,\n",
      "       -3.16654563, -3.10030773, -3.17173317, -3.10542539, -3.07791962,\n",
      "       -3.14096844, -3.22479725, -3.26211469, -3.24606035, -3.19081364,\n",
      "       -3.21561463, -3.19960024, -3.22379599, -3.21296416, -3.21455183,\n",
      "       -3.2207201 , -3.26601637, -3.28728465, -3.30744427, -3.33580894,\n",
      "       -3.35290807, -3.30728632, -3.22730934, -3.22378045, -3.25454273,\n",
      "       -3.28107343, -3.29517357, -3.28616548, -3.29737416, -3.29764434,\n",
      "       -3.30933   , -3.29333276, -3.28341237, -3.29547224, -3.29788677]), 'split2_test_score': array([-2.79578824, -1.37737941, -1.19145882, -1.14595515, -1.18272541,\n",
      "       -1.03177908, -0.94558475, -1.09060588, -1.08015657, -1.05469235,\n",
      "       -1.09703865, -1.08099502, -1.03205757, -1.09504163, -1.12235579,\n",
      "       -1.12680308, -1.13710651, -1.0592583 , -1.0469481 , -1.00368207,\n",
      "       -0.99669972, -0.98771642, -0.99317854, -0.96526396, -0.94226536,\n",
      "       -0.9231711 , -0.94752539, -0.95451733, -0.95376543, -0.96020856,\n",
      "       -0.96864236, -0.94007923, -0.92724914, -0.91934791, -0.9204734 ,\n",
      "       -0.93649955, -0.91977869, -0.92167306, -0.91810113, -0.92232169,\n",
      "       -0.93234025, -0.92703597, -0.92752869, -0.93218018, -0.93552492,\n",
      "       -0.93729257, -0.93214087, -0.93339215, -0.93271024, -0.92001714]), 'split3_test_score': array([-1.23364706, -1.06627941, -0.98138889, -0.81708419, -0.646664  ,\n",
      "       -0.55946618, -0.62724082, -0.6080989 , -0.58777233, -0.55492041,\n",
      "       -0.53285027, -0.56529481, -0.56884316, -0.58957938, -0.62263924,\n",
      "       -0.60771841, -0.60831305, -0.58185586, -0.58137131, -0.60608826,\n",
      "       -0.58549357, -0.57385378, -0.55040526, -0.53286401, -0.52207538,\n",
      "       -0.53129501, -0.5259428 , -0.55075876, -0.54532535, -0.55237802,\n",
      "       -0.57057893, -0.58251289, -0.56860739, -0.574747  , -0.55883439,\n",
      "       -0.54105894, -0.53717676, -0.53921195, -0.54972969, -0.55309017,\n",
      "       -0.56265395, -0.56401459, -0.56743218, -0.55077637, -0.55347003,\n",
      "       -0.55868269, -0.55134281, -0.55846615, -0.56260517, -0.56998328]), 'split4_test_score': array([-0.91230588, -0.68779265, -0.56370784, -0.38589449, -0.74645176,\n",
      "       -0.71831781, -0.6242491 , -0.68130009, -0.60206667, -0.51079018,\n",
      "       -0.55837423, -0.52595458, -0.53694821, -0.55746741, -0.54083676,\n",
      "       -0.49310813, -0.53815882, -0.5212872 , -0.49891872, -0.48914856,\n",
      "       -0.49325293, -0.46827895, -0.472332  , -0.45854319, -0.46403992,\n",
      "       -0.46467636, -0.45818531, -0.46434892, -0.45489152, -0.45448156,\n",
      "       -0.43640495, -0.43553637, -0.42770845, -0.42467739, -0.41936286,\n",
      "       -0.42992852, -0.42587813, -0.43127735, -0.43992525, -0.43577268,\n",
      "       -0.43949342, -0.44019009, -0.43801028, -0.43457603, -0.44302295,\n",
      "       -0.44456832, -0.44840151, -0.44343645, -0.43628131, -0.43952844]), 'split5_test_score': array([-1.33610588, -1.36751176, -1.20476601, -1.10678566, -1.16214   ,\n",
      "       -1.09090931, -1.04283361, -1.00881039, -0.98366086, -0.93539188,\n",
      "       -0.93346471, -0.9164431 , -0.90185841, -0.91521573, -0.92656949,\n",
      "       -0.87693054, -0.86707091, -0.87543569, -0.89257321, -0.8872044 ,\n",
      "       -0.89254022, -0.85444744, -0.82652858, -0.8195375 , -0.81778477,\n",
      "       -0.83204997, -0.83770741, -0.83835891, -0.82361802, -0.82395414,\n",
      "       -0.82328835, -0.82557856, -0.83353503, -0.83146356, -0.81568519,\n",
      "       -0.79793033, -0.79165836, -0.7953982 , -0.78010654, -0.77373638,\n",
      "       -0.78160174, -0.79457158, -0.81293744, -0.80650321, -0.81092621,\n",
      "       -0.80486015, -0.8139831 , -0.82190926, -0.81981031, -0.82371833]), 'split6_test_score': array([-2.21944118, -2.32639118, -2.3013719 , -2.4321386 , -2.48328282,\n",
      "       -2.63695654, -2.33689256, -2.28876756, -2.19477545, -2.03848941,\n",
      "       -2.09955445, -2.18916475, -2.21186293, -2.23395258, -2.19244925,\n",
      "       -2.19119405, -2.20024407, -2.17140508, -2.18812425, -2.18036334,\n",
      "       -2.17633864, -2.15368872, -2.15507555, -2.18860517, -2.17709981,\n",
      "       -2.16282745, -2.1574814 , -2.17280596, -2.18994382, -2.19612827,\n",
      "       -2.17857751, -2.1734644 , -2.177579  , -2.17459981, -2.14730252,\n",
      "       -2.1903486 , -2.17255603, -2.18390983, -2.19416603, -2.18210098,\n",
      "       -2.16722054, -2.164967  , -2.17544667, -2.16950582, -2.18606371,\n",
      "       -2.17388455, -2.17686568, -2.16151645, -2.14037273, -2.15200241]), 'split7_test_score': array([-2.27915294, -2.30437941, -1.89300131, -1.40838456, -1.39143647,\n",
      "       -1.51966503, -1.32692257, -1.40482408, -1.39014561, -1.38006235,\n",
      "       -1.33114356, -1.29171993, -1.2786543 , -1.16251723, -1.20177485,\n",
      "       -1.1526151 , -1.15902487, -1.13088304, -1.11861214, -1.10820032,\n",
      "       -1.09733092, -1.09136298, -1.06915332, -1.03622824, -1.05273974,\n",
      "       -1.09016377, -1.07274551, -1.0920059 , -1.12858789, -1.1392268 ,\n",
      "       -1.14175002, -1.12164158, -1.106512  , -1.11440568, -1.10229153,\n",
      "       -1.11113253, -1.11649459, -1.11800528, -1.09252213, -1.09722236,\n",
      "       -1.10517137, -1.12566066, -1.13820541, -1.14624095, -1.14064161,\n",
      "       -1.1342466 , -1.13757177, -1.12709946, -1.11586268, -1.13222348]), 'split8_test_score': array([-1.92257059, -1.14816176, -1.09259281, -1.30192353, -1.499864  ,\n",
      "       -1.57275458, -1.40105174, -1.35434145, -1.34880269, -1.45305194,\n",
      "       -1.43926028, -1.44325792, -1.44034535, -1.49582836, -1.53681336,\n",
      "       -1.47537817, -1.52788274, -1.53085868, -1.54065499, -1.50361237,\n",
      "       -1.54298796, -1.54988754, -1.56717112, -1.56572622, -1.58299834,\n",
      "       -1.55616989, -1.54053368, -1.52612809, -1.53232266, -1.56059476,\n",
      "       -1.55579545, -1.51695064, -1.53412392, -1.53202335, -1.54551816,\n",
      "       -1.55755769, -1.56583021, -1.54276552, -1.52983457, -1.51992218,\n",
      "       -1.54044835, -1.56017091, -1.57563092, -1.58116455, -1.5885439 ,\n",
      "       -1.62248621, -1.6123514 , -1.61097228, -1.62689462, -1.62381091]), 'split9_test_score': array([-1.29082353, -1.05012353, -0.73840588, -0.63156324, -0.56359529,\n",
      "       -0.50859984, -0.47133962, -0.43990717, -0.41858947, -0.40629235,\n",
      "       -0.39466495, -0.41432545, -0.41124835, -0.40761888, -0.40067443,\n",
      "       -0.39136659, -0.38667238, -0.39069869, -0.38170358, -0.38335471,\n",
      "       -0.37966881, -0.38532772, -0.37283514, -0.35949018, -0.36004419,\n",
      "       -0.35695215, -0.34758037, -0.35693323, -0.35925266, -0.35428169,\n",
      "       -0.34565942, -0.35202511, -0.35803423, -0.35624336, -0.36036969,\n",
      "       -0.34859857, -0.35943924, -0.34959771, -0.35118214, -0.34329354,\n",
      "       -0.33635571, -0.3363117 , -0.331993  , -0.33017436, -0.33564552,\n",
      "       -0.33805756, -0.34037064, -0.3503589 , -0.35044876, -0.35352994]), 'mean_test_score': array([-1.92838235, -1.60233426, -1.44163556, -1.34680809, -1.39208828,\n",
      "       -1.37099363, -1.26945834, -1.27356366, -1.21069436, -1.18483272,\n",
      "       -1.21226934, -1.19934993, -1.19416003, -1.20092147, -1.19323294,\n",
      "       -1.17930327, -1.18399425, -1.17646675, -1.16840745, -1.15631674,\n",
      "       -1.16504657, -1.16295794, -1.16270239, -1.15055935, -1.1455354 ,\n",
      "       -1.14768705, -1.14396817, -1.15391145, -1.15728285, -1.16364936,\n",
      "       -1.16148497, -1.15862292, -1.15817248, -1.1593057 , -1.15640013,\n",
      "       -1.16216279, -1.15603909, -1.14961284, -1.14751953, -1.14833729,\n",
      "       -1.15571438, -1.16200526, -1.16636104, -1.16698689, -1.17115451,\n",
      "       -1.17507   , -1.17342754, -1.17147292, -1.16964579, -1.17333161]), 'std_test_score': array([0.93408879, 0.83867086, 0.88223728, 0.9059576 , 0.90491446,\n",
      "       0.98420446, 0.92554804, 0.90508863, 0.84427836, 0.83762622,\n",
      "       0.88509219, 0.85834448, 0.86034015, 0.86266605, 0.83447481,\n",
      "       0.85599845, 0.84057407, 0.85543332, 0.84491618, 0.83657874,\n",
      "       0.85165632, 0.87319464, 0.88481748, 0.89175036, 0.87785052,\n",
      "       0.88004166, 0.87525163, 0.87805989, 0.87792736, 0.87930842,\n",
      "       0.87999266, 0.88785823, 0.89620067, 0.90108467, 0.907119  ,\n",
      "       0.91833129, 0.90536267, 0.88486234, 0.88319588, 0.88910002,\n",
      "       0.89284312, 0.89606735, 0.89549636, 0.89849798, 0.89924165,\n",
      "       0.90119178, 0.89692089, 0.89179544, 0.89427787, 0.89463418]), 'rank_test_score': array([50, 49, 48, 45, 47, 46, 43, 44, 41, 36, 42, 39, 38, 40, 37, 34, 35,\n",
      "       33, 26, 11, 23, 21, 20,  7,  2,  4,  1,  8, 13, 22, 17, 15, 14, 16,\n",
      "       12, 19, 10,  6,  3,  5,  9, 18, 24, 25, 28, 32, 31, 29, 27, 30],\n",
      "      dtype=int32), 'split0_train_score': array([-0.        , -0.55546405, -0.79726209, -0.89911499, -0.95075812,\n",
      "       -1.01676605, -1.07903459, -1.08835695, -1.06850899, -1.09723008,\n",
      "       -1.12125402, -1.10759257, -1.10531615, -1.12968038, -1.15596722,\n",
      "       -1.18609829, -1.16809317, -1.16733966, -1.1641349 , -1.14722806,\n",
      "       -1.13908661, -1.15150044, -1.15511739, -1.16254887, -1.16262921,\n",
      "       -1.16861812, -1.16920513, -1.17142651, -1.1776546 , -1.17628112,\n",
      "       -1.17817335, -1.17372579, -1.18067108, -1.17959631, -1.18251902,\n",
      "       -1.17972383, -1.17863915, -1.18490186, -1.18260475, -1.18221917,\n",
      "       -1.18941975, -1.18536404, -1.18934307, -1.19752818, -1.20149434,\n",
      "       -1.20501248, -1.20644867, -1.20544019, -1.20452269, -1.20512108]), 'split1_train_score': array([-0.        , -0.43997157, -0.6445215 , -0.68567798, -0.74081216,\n",
      "       -0.76082226, -0.82442805, -0.7848481 , -0.80955525, -0.81599772,\n",
      "       -0.82701041, -0.83419391, -0.83314817, -0.85874584, -0.8684718 ,\n",
      "       -0.88267999, -0.87913708, -0.86835236, -0.86544512, -0.85804386,\n",
      "       -0.8522978 , -0.85408132, -0.85051394, -0.85022416, -0.86175051,\n",
      "       -0.8578888 , -0.85710928, -0.86246108, -0.86399081, -0.86598625,\n",
      "       -0.85920496, -0.86199108, -0.86106592, -0.85855063, -0.85985547,\n",
      "       -0.8606019 , -0.86489667, -0.86903148, -0.86707646, -0.86801004,\n",
      "       -0.87068035, -0.87162276, -0.8758292 , -0.88047392, -0.88332126,\n",
      "       -0.88626781, -0.88614368, -0.88783545, -0.89239568, -0.89092517]), 'split2_train_score': array([-0.        , -0.49356046, -0.71848424, -0.78788672, -0.88109082,\n",
      "       -0.98820879, -1.03109868, -1.03379224, -1.01290218, -1.01669858,\n",
      "       -1.03953242, -1.0257999 , -1.03817084, -1.06593331, -1.06430254,\n",
      "       -1.08323019, -1.06845624, -1.07059538, -1.06558089, -1.08142002,\n",
      "       -1.08886691, -1.08397858, -1.08071837, -1.08788168, -1.09189409,\n",
      "       -1.09789556, -1.09613298, -1.09748103, -1.09935498, -1.09901331,\n",
      "       -1.10152898, -1.10619239, -1.11207741, -1.106631  , -1.11028511,\n",
      "       -1.11223826, -1.11746019, -1.11764465, -1.11141589, -1.11417348,\n",
      "       -1.11568003, -1.11891167, -1.12439983, -1.12978003, -1.13276187,\n",
      "       -1.13340201, -1.14002648, -1.13997662, -1.14090853, -1.14332503]), 'split3_train_score': array([-0.        , -0.52642549, -0.73948279, -0.85541479, -0.95960502,\n",
      "       -1.01030543, -1.06087244, -1.10090318, -1.08758188, -1.05739567,\n",
      "       -1.07850767, -1.1081717 , -1.103537  , -1.13539201, -1.14229188,\n",
      "       -1.14906383, -1.14441596, -1.1233966 , -1.12711475, -1.13576129,\n",
      "       -1.13887321, -1.14171716, -1.14264411, -1.14202302, -1.144499  ,\n",
      "       -1.14423907, -1.14941072, -1.15631005, -1.15751508, -1.15608024,\n",
      "       -1.16394548, -1.16217033, -1.15917311, -1.15810724, -1.15458557,\n",
      "       -1.16239287, -1.16435364, -1.16972054, -1.17270376, -1.16694738,\n",
      "       -1.16785892, -1.17164643, -1.17738168, -1.17980846, -1.18517103,\n",
      "       -1.18639988, -1.19251841, -1.19515582, -1.1960859 , -1.19421392]), 'split4_train_score': array([-0.        , -0.45975654, -0.72966151, -0.89347982, -0.98667412,\n",
      "       -1.03895332, -1.08304874, -1.03308103, -1.05489622, -1.09624759,\n",
      "       -1.06167261, -1.07674076, -1.07919383, -1.14242208, -1.12978793,\n",
      "       -1.14334232, -1.1367433 , -1.12561219, -1.11983097, -1.12370687,\n",
      "       -1.1222898 , -1.12993677, -1.13643249, -1.14495531, -1.15048763,\n",
      "       -1.14704781, -1.15538039, -1.15984775, -1.1651985 , -1.17298647,\n",
      "       -1.17353246, -1.17065443, -1.16716985, -1.17245124, -1.1798722 ,\n",
      "       -1.18163531, -1.17728346, -1.17514762, -1.17026757, -1.17176542,\n",
      "       -1.174095  , -1.18061378, -1.1895355 , -1.1965619 , -1.19693077,\n",
      "       -1.20077562, -1.20499465, -1.19853369, -1.20101793, -1.20182874]), 'split5_train_score': array([-0.        , -0.51063137, -0.68252767, -0.82997308, -0.90691644,\n",
      "       -0.98654608, -0.98709217, -0.97678662, -1.01696766, -1.04503059,\n",
      "       -1.04293782, -1.04663541, -1.04312641, -1.07446322, -1.10551543,\n",
      "       -1.08419635, -1.09503441, -1.09414219, -1.09048055, -1.09659296,\n",
      "       -1.09227004, -1.09090268, -1.10344395, -1.10947986, -1.10933397,\n",
      "       -1.11501844, -1.11501531, -1.11864238, -1.13076762, -1.12765289,\n",
      "       -1.12692972, -1.1299607 , -1.12623095, -1.12605719, -1.124599  ,\n",
      "       -1.12089195, -1.12062485, -1.12745792, -1.13197941, -1.13860923,\n",
      "       -1.13257468, -1.13065826, -1.13447542, -1.14222107, -1.14498094,\n",
      "       -1.1527278 , -1.15549358, -1.15086531, -1.15112205, -1.15109744]), 'split6_train_score': array([-0.        , -0.41609134, -0.63714473, -0.76601916, -0.78607451,\n",
      "       -0.88061745, -0.88417743, -0.89142526, -0.88335349, -0.8884873 ,\n",
      "       -0.90387165, -0.92274991, -0.95074351, -0.9426671 , -0.96352584,\n",
      "       -0.95590944, -0.94305255, -0.93758276, -0.94452   , -0.95091779,\n",
      "       -0.96281302, -0.95353932, -0.95630897, -0.95349571, -0.96207669,\n",
      "       -0.96873008, -0.97247029, -0.97283412, -0.9728259 , -0.96790897,\n",
      "       -0.96644864, -0.9701754 , -0.97236454, -0.98008999, -0.98297981,\n",
      "       -0.98518233, -0.98770651, -0.98153399, -0.98204386, -0.9910137 ,\n",
      "       -0.99001776, -0.99341322, -0.99927526, -1.00226396, -1.00479775,\n",
      "       -1.00647971, -1.00856084, -1.01366983, -1.01190097, -1.01118222]), 'split7_train_score': array([-0.        , -0.49027288, -0.70675832, -0.82180286, -0.87480259,\n",
      "       -0.91037702, -0.93753512, -0.96217496, -0.98564927, -0.98150299,\n",
      "       -0.98924764, -0.97736162, -1.00716661, -1.0335562 , -1.05379055,\n",
      "       -1.05799747, -1.05684808, -1.04570098, -1.0477086 , -1.04045318,\n",
      "       -1.03966754, -1.05329278, -1.06649979, -1.07622909, -1.07625958,\n",
      "       -1.0841253 , -1.08017841, -1.07578909, -1.08704025, -1.08834836,\n",
      "       -1.08792984, -1.0918278 , -1.09346359, -1.0947257 , -1.09736085,\n",
      "       -1.10219764, -1.10682897, -1.10876397, -1.11351032, -1.11244636,\n",
      "       -1.11057799, -1.11441828, -1.11956387, -1.11943075, -1.12362405,\n",
      "       -1.12323751, -1.12223087, -1.12733137, -1.12921069, -1.12911452]), 'split8_train_score': array([-0.        , -0.50769755, -0.75036442, -0.8134373 , -0.86177067,\n",
      "       -0.93277527, -0.97256991, -0.96112874, -1.00092731, -1.01277424,\n",
      "       -1.02873784, -1.01507811, -1.02914668, -1.03915922, -1.05447865,\n",
      "       -1.06692329, -1.04892494, -1.05681332, -1.05000769, -1.05294097,\n",
      "       -1.06008723, -1.05882529, -1.05471839, -1.05459078, -1.05471878,\n",
      "       -1.06399928, -1.06999975, -1.08080008, -1.08693609, -1.07935433,\n",
      "       -1.08355168, -1.08226345, -1.08428622, -1.08256617, -1.08432597,\n",
      "       -1.09052696, -1.08874825, -1.09499701, -1.08766848, -1.08353543,\n",
      "       -1.08569769, -1.08641814, -1.09600966, -1.09524605, -1.09852608,\n",
      "       -1.10312684, -1.10335987, -1.09862663, -1.09910741, -1.09933767]), 'split9_train_score': array([-0.        , -0.49606961, -0.74514154, -0.88177684, -0.92665231,\n",
      "       -1.01403155, -1.07700068, -1.05229954, -1.07363652, -1.08909255,\n",
      "       -1.10611958, -1.09109012, -1.11213982, -1.11987595, -1.13854419,\n",
      "       -1.15560092, -1.14866825, -1.1587982 , -1.14801587, -1.14287363,\n",
      "       -1.12917043, -1.13815434, -1.14107618, -1.14431439, -1.15408945,\n",
      "       -1.15452014, -1.16690344, -1.16617185, -1.15987413, -1.1734507 ,\n",
      "       -1.17396504, -1.17808207, -1.18253269, -1.17922406, -1.17688032,\n",
      "       -1.1778664 , -1.17812166, -1.18103729, -1.18717549, -1.18952674,\n",
      "       -1.19396357, -1.19610659, -1.19820548, -1.19481162, -1.19453805,\n",
      "       -1.19488387, -1.2046023 , -1.20771561, -1.2065716 , -1.20772465]), 'mean_train_score': array([ 0.        , -0.48959408, -0.71513488, -0.82345835, -0.88751568,\n",
      "       -0.95394032, -0.99368578, -0.98847966, -0.99939788, -1.01004573,\n",
      "       -1.01988917, -1.0205414 , -1.0301689 , -1.05418953, -1.0676676 ,\n",
      "       -1.07650421, -1.0689374 , -1.06483336, -1.06228394, -1.06299386,\n",
      "       -1.06254226, -1.06559287, -1.06874736, -1.07257429, -1.07677389,\n",
      "       -1.08020826, -1.08318057, -1.08617639, -1.0901158 , -1.09070626,\n",
      "       -1.09152101, -1.09270435, -1.09390354, -1.09379995, -1.09532633,\n",
      "       -1.09732575, -1.09846633, -1.10102363, -1.1006446 , -1.10182469,\n",
      "       -1.10305657, -1.10491732, -1.1104019 , -1.11381259, -1.11661461,\n",
      "       -1.11923135, -1.12243793, -1.12251505, -1.12328434, -1.12338704]), 'std_train_score': array([0.        , 0.03908857, 0.04680125, 0.06224374, 0.07322218,\n",
      "       0.0807566 , 0.08509278, 0.09120971, 0.08445896, 0.08834235,\n",
      "       0.08688445, 0.0838355 , 0.08126518, 0.08730892, 0.08636134,\n",
      "       0.08980479, 0.08920909, 0.09087394, 0.08889387, 0.08893844,\n",
      "       0.08714883, 0.09002731, 0.09195134, 0.09426378, 0.09194303,\n",
      "       0.09249974, 0.09420082, 0.09392907, 0.09452845, 0.09610423,\n",
      "       0.09865141, 0.09730224, 0.09770615, 0.09725439, 0.09705017,\n",
      "       0.0969949 , 0.09548015, 0.09634354, 0.09710662, 0.09601503,\n",
      "       0.09650572, 0.09649887, 0.0965037 , 0.09648853, 0.09633162,\n",
      "       0.09634623, 0.098033  , 0.09685841, 0.09607291, 0.09662704])}\n"
     ]
    }
   ],
   "source": [
    "from sklearn.model_selection import GridSearchCV\n",
    "parameters = {'n_neighbors': list(range(1, 51))}\n",
    "knn = KNeighborsRegressor()\n",
    "grid = GridSearchCV(\n",
    "    knn,\n",
    "    parameters,\n",
    "    cv = 10,\n",
    "    scoring = 'neg_mean_squared_error',\n",
    "    return_train_score = True,\n",
    "    refit = True\n",
    ")\n",
    "grid.fit(X_train, y_train)\n",
    "print(grid.best_params_)\n",
    "print(grid.cv_results_)"
   ]
  },
  {
   "cell_type": "code",
   "execution_count": null,
   "metadata": {
    "scrolled": true
   },
   "outputs": [],
   "source": [
    "# Training errors\n",
    "mean_cv_train = grid.cv_results_['mean_train_score']\n",
    "rmse_cv_train = np.sqrt(np.abs(mean_cv_train))\n",
    "\n",
    "# Test errors\n",
    "mean_cv_test = grid.cv_results_['mean_test_score']\n",
    "rmse_cv_test = np.sqrt(np.abs(mean_cv_test))\n",
    "\n",
    "# Plotting\n",
    "plt.figure(figsize=(12,6))\n",
    "plt.plot(rmse_cv_train, marker = 'o', linestyle = '--', color = 'red')\n",
    "plt.plot(rmse_cv_test, marker = 'o', linestyle = '--', color = 'green')\n",
    "plt.legend(['Train', 'Test'], loc = (0.8, 0.2))\n",
    "plt.title(\"Cross validation RMSE vs Number of neighbors\")\n",
    "plt.xlabel('Number of neighbors')\n",
    "plt.ylabel('RMSE 10-CV')"
   ]
  },
  {
   "cell_type": "code",
   "execution_count": null,
   "metadata": {},
   "outputs": [],
   "source": [
    "best_knn = grid.best_estimator_\n",
    "best_pred = best_knn.predict(X_test)\n",
    "np.sqrt(mean_squared_error(y_test, best_pred))"
   ]
  },
  {
   "cell_type": "code",
   "execution_count": null,
   "metadata": {},
   "outputs": [],
   "source": [
    "from sklearn.model_selection import RepeatedKFold\n",
    "\n",
    "parameters = {'n_neighbors': list(range(1, 41))}\n",
    "knn = KNeighborsRegressor()\n",
    "grid = GridSearchCV(\n",
    "    knn,\n",
    "    parameters,\n",
    "    cv = RepeatedKFold(n_splits = 10, n_repeats = 30),\n",
    "    scoring = 'neg_mean_squared_error',\n",
    "    return_train_score = True,\n",
    "    refit = True\n",
    ")\n",
    "grid.fit(X_train, y_train)\n",
    "grid.best_params_\n",
    "# grid.cv_results_"
   ]
  }
 ],
 "metadata": {
  "kernelspec": {
   "display_name": "Python 3",
   "language": "python",
   "name": "python3"
  },
  "language_info": {
   "codemirror_mode": {
    "name": "ipython",
    "version": 3
   },
   "file_extension": ".py",
   "mimetype": "text/x-python",
   "name": "python",
   "nbconvert_exporter": "python",
   "pygments_lexer": "ipython3",
   "version": "3.8.5"
  }
 },
 "nbformat": 4,
 "nbformat_minor": 2
}
