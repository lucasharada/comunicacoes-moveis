{
 "cells": [
  {
   "cell_type": "markdown",
   "metadata": {},
   "source": [
    "## scikit-learn: machine learning in Python (https://scikit-learn.org/stable/)"
   ]
  },
  {
   "cell_type": "code",
   "execution_count": null,
   "metadata": {},
   "outputs": [],
   "source": [
    "import sklearn\n",
    "import numpy as np\n",
    "import pandas as pd\n",
    "from matplotlib import pyplot as plt\n",
    "import seaborn as sns"
   ]
  },
  {
   "cell_type": "code",
   "execution_count": null,
   "metadata": {},
   "outputs": [],
   "source": [
    "tips = sns.load_dataset(\"tips\")\n",
    "tips.head()"
   ]
  },
  {
   "cell_type": "markdown",
   "metadata": {},
   "source": [
    "### Comparing classification models"
   ]
  },
  {
   "cell_type": "code",
   "execution_count": null,
   "metadata": {},
   "outputs": [],
   "source": [
    "X = tips.drop(\"sex\", axis = 1)\n",
    "y = tips[\"sex\"]\n",
    "\n",
    "from sklearn.model_selection import train_test_split\n",
    "X_train, X_test, y_train, y_test = train_test_split(X, y, test_size = 0.3, random_state = 100)\n",
    "print(y_test)"
   ]
  },
  {
   "cell_type": "code",
   "execution_count": null,
   "metadata": {},
   "outputs": [],
   "source": [
    "from sklearn.svm import SVC\n",
    "clf1 = SVC(gamma=\"auto\")\n",
    "clf1.fit(X_train, y_train)"
   ]
  },
  {
   "cell_type": "code",
   "execution_count": null,
   "metadata": {},
   "outputs": [],
   "source": [
    "from sklearn.preprocessing import LabelEncoder\n",
    "lb = LabelEncoder()\n",
    "X['smoker'] = lb.fit_transform(X['smoker'])\n",
    "X['day'] = lb.fit_transform(X['day'])\n",
    "X['time'] = lb.fit_transform(X['time'])\n",
    "\n",
    "y = lb.fit_transform(y)\n",
    "\n",
    "from sklearn.model_selection import train_test_split\n",
    "X_train, X_test, y_train, y_test = train_test_split(X, y, test_size = 0.3, random_state = 100)\n",
    "print(y_test)"
   ]
  },
  {
   "cell_type": "code",
   "execution_count": null,
   "metadata": {},
   "outputs": [],
   "source": [
    "from sklearn.svm import SVC\n",
    "clf1 = SVC(gamma=\"auto\")\n",
    "clf1.fit(X_train, y_train)"
   ]
  },
  {
   "cell_type": "code",
   "execution_count": null,
   "metadata": {},
   "outputs": [],
   "source": [
    "pred1 = clf1.predict(X_test)\n",
    "pred1"
   ]
  },
  {
   "cell_type": "code",
   "execution_count": null,
   "metadata": {},
   "outputs": [],
   "source": [
    "from sklearn.neighbors import KNeighborsClassifier\n",
    "clf2 = KNeighborsClassifier(n_neighbors=5)\n",
    "clf2.fit(X_train, y_train)"
   ]
  },
  {
   "cell_type": "code",
   "execution_count": null,
   "metadata": {},
   "outputs": [],
   "source": [
    "pred2 = clf2.predict(X_test)\n",
    "pred2"
   ]
  },
  {
   "cell_type": "markdown",
   "metadata": {},
   "source": [
    "Classification metrics available in Scikt-learn:\n",
    "\n",
    "https://scikit-learn.org/stable/modules/model_evaluation.html#classification-metrics"
   ]
  },
  {
   "cell_type": "code",
   "execution_count": null,
   "metadata": {},
   "outputs": [],
   "source": [
    "from sklearn.metrics import accuracy_score, classification_report, confusion_matrix\n",
    "acc1 = accuracy_score(pred1, y_test)\n",
    "acc2 = accuracy_score(pred2, y_test)\n",
    "print(\"SVC Accuracy: {}; KNN Accuracy: {}\\n\".format(acc1, acc2))\n",
    "\n",
    "# clr1 = classification_report(pred1, y_test)\n",
    "# clr2 = classification_report(pred2, y_test)\n",
    "# print(\"SVC Report: {}\".format(clr1))\n",
    "# print(\"KNN Report: {}\".format(clr2))\n",
    "\n",
    "cmat1 = confusion_matrix(pred1, y_test)\n",
    "cmat2 = confusion_matrix(pred2, y_test)\n",
    "print(\"Confusion Matrix format:\\n[[True positive False positive]\\n[False negative True negative]]\\n\")\n",
    "print(\"SVC Matrix: \\n{}\\n\".format(cmat1))\n",
    "print(\"KNN Matrix: \\n{}\\n\".format(cmat2))"
   ]
  },
  {
   "cell_type": "markdown",
   "metadata": {},
   "source": [
    "### Comparing regression models"
   ]
  },
  {
   "cell_type": "markdown",
   "metadata": {},
   "source": [
    "#### Most common regression metrics\n",
    "##### Mean Absolute Error (MAE)\n",
    "\n",
    "$MAE=\\frac{1}{n}\\sum\\limits^{n}_{i=1}|y_i - \\hat{y}_i|$\n",
    "\n",
    "##### Mean Square Error (MSE)\n",
    "\n",
    "$MSE=\\frac{1}{n}\\sum\\limits^{n}_{i=1}(y_i - \\hat{y}_i)^2$\n",
    "\n",
    "##### Root Mean Square Error (RMSE)\n",
    "\n",
    "$RMSE=\\sqrt{\\frac{1}{n}\\sum\\limits^{n}_{i=1}(y_i - \\hat{y}_i)^2}$\n",
    "\n",
    "##### $R^2$ Score (Coefficient of determination)\n",
    "\n",
    "From scikit: \"Best possible score is 1.0 and it can be negative (because the model can be arbitrarily worse). A constant model that always predicts the expected value of y, disregarding the input features, would get a R^2 score of 0.0.\"\n",
    "\n",
    "https://scikit-learn.org/stable/modules/model_evaluation.html#regression-metrics"
   ]
  },
  {
   "cell_type": "code",
   "execution_count": null,
   "metadata": {},
   "outputs": [],
   "source": [
    "X = tips.drop('tip', axis = 1)\n",
    "y = tips['tip']\n",
    "\n",
    "from sklearn.preprocessing import LabelEncoder\n",
    "lb = LabelEncoder()\n",
    "X['sex'] = lb.fit_transform(X['sex'])\n",
    "X['smoker'] = lb.fit_transform(X['smoker'])\n",
    "X['day'] = lb.fit_transform(X['day'])\n",
    "X['time'] = lb.fit_transform(X['time'])\n",
    "\n",
    "from sklearn.model_selection import train_test_split\n",
    "X_train, X_test, y_train, y_test = train_test_split(X, y, test_size = 0.3, random_state = 100)"
   ]
  },
  {
   "cell_type": "code",
   "execution_count": null,
   "metadata": {},
   "outputs": [],
   "source": [
    "from sklearn.svm import LinearSVR \n",
    "mdl_1 = LinearSVR(random_state=0, tol=1e-5)\n",
    "mdl_1.fit(X_train, y_train)\n",
    "\n",
    "y_pred_1 = mdl_1.predict(X_test)"
   ]
  },
  {
   "cell_type": "code",
   "execution_count": null,
   "metadata": {},
   "outputs": [],
   "source": [
    "from sklearn.ensemble import RandomForestRegressor\n",
    "mdl_2 = RandomForestRegressor(max_depth = 2, random_state = 0)\n",
    "mdl_2.fit(X_train, y_train)\n",
    "\n",
    "y_pred_2 = mdl_2.predict(X_test)"
   ]
  },
  {
   "cell_type": "code",
   "execution_count": null,
   "metadata": {},
   "outputs": [],
   "source": [
    "from sklearn.linear_model import Lasso\n",
    "mdl_mvt = Lasso(alpha=0.02)\n",
    "mdl_mvt.fit(X_train, y_train)\n",
    "\n",
    "y_pred_mvt = mdl_mvt.predict(X_test)"
   ]
  },
  {
   "cell_type": "code",
   "execution_count": null,
   "metadata": {
    "scrolled": true
   },
   "outputs": [],
   "source": [
    "from sklearn.neighbors import KNeighborsRegressor\n",
    "mdl_abcr = KNeighborsRegressor(n_neighbors = 10)\n",
    "mdl_abcr.fit(X_train, y_train)\n",
    "\n",
    "y_pred_abcr = mdl_abcr.predict(X_test)"
   ]
  },
  {
   "cell_type": "code",
   "execution_count": null,
   "metadata": {
    "scrolled": true
   },
   "outputs": [],
   "source": [
    "from sklearn.metrics import mean_absolute_error, mean_squared_error, r2_score\n",
    "results = [\n",
    "    [mean_absolute_error(y_test, y_pred_1), mean_squared_error(y_test, y_pred_1), np.sqrt(mean_squared_error(y_test, y_pred_1)), r2_score(y_test, y_pred_1)],\n",
    "    [mean_absolute_error(y_test, y_pred_2), mean_squared_error(y_test, y_pred_2), np.sqrt(mean_squared_error(y_test, y_pred_2)), r2_score(y_test, y_pred_2)],\n",
    "    [mean_absolute_error(y_test, y_pred_abcr), mean_squared_error(y_test, y_pred_abcr), np.sqrt(mean_squared_error(y_test, y_pred_abcr)), r2_score(y_test, y_pred_abcr)],\n",
    "    [mean_absolute_error(y_test, y_pred_mvt), mean_squared_error(y_test, y_pred_mvt), np.sqrt(mean_squared_error(y_test, y_pred_mvt)), r2_score(y_test, y_pred_mvt)],\n",
    "]"
   ]
  },
  {
   "cell_type": "code",
   "execution_count": null,
   "metadata": {},
   "outputs": [],
   "source": [
    "f, (ax1, ax2, ax3, ax4) = plt.subplots(4, 1, figsize=(15, 10), sharex=True)\n",
    "\n",
    "x = np.array(['1', '2', 'abcr', 'mvt'])\n",
    "sns.barplot(x = x, y = list(map(lambda r: r[0], results)), palette=\"rocket\", ax = ax1)\n",
    "sns.barplot(x = x, y = list(map(lambda r: r[1], results)), palette=\"rocket\", ax = ax2)\n",
    "sns.barplot(x = x, y = list(map(lambda r: r[2], results)), palette=\"rocket\", ax = ax3)\n",
    "sns.barplot(x = x, y = list(map(lambda r: r[3], results)), palette=\"rocket\", ax = ax4)\n",
    "ax1.axhline(0, color=\"k\")\n",
    "ax1.set_ylabel(\"MAE\")\n",
    "ax2.axhline(0, color=\"k\")\n",
    "ax2.set_ylabel(\"MSE\")\n",
    "ax3.axhline(0, color=\"k\")\n",
    "ax3.set_ylabel(\"RMSE\")\n",
    "ax4.axhline(0, color=\"k\")\n",
    "ax4.set_ylabel(\"R2\")"
   ]
  },
  {
   "cell_type": "markdown",
   "metadata": {},
   "source": [
    "### Finding optimal parameters"
   ]
  },
  {
   "cell_type": "code",
   "execution_count": null,
   "metadata": {},
   "outputs": [],
   "source": [
    "from sklearn.neighbors import KNeighborsRegressor\n",
    "ks = np.arange(1,51)\n",
    "results = np.zeros(50)\n",
    "for k in ks:\n",
    "    knn = KNeighborsRegressor(n_neighbors = k)\n",
    "    knn.fit(X_train, y_train)\n",
    "    y_pred = knn.predict(X_test)\n",
    "    results[k-1] = np.sqrt(mean_squared_error(y_test, y_pred))\n",
    "best_k = results.argmin() + 1\n",
    "low_rmse = results.min()\n",
    "print (\"Best number of neighbors is {} with RMSE equals to {}\".format(best_k, low_rmse))    "
   ]
  },
  {
   "cell_type": "code",
   "execution_count": null,
   "metadata": {},
   "outputs": [],
   "source": [
    "plt.figure(figsize=(12, 6))\n",
    "plt.plot(ks, results, marker='o', linestyle='--', color='blue')\n",
    "plt.title(\"RMSE vs Number of neighbors\")"
   ]
  },
  {
   "cell_type": "markdown",
   "metadata": {
    "collapsed": true
   },
   "source": [
    "#### Cross-validation - http://scikit-learn.org/stable/modules/model_evaluation.html"
   ]
  },
  {
   "cell_type": "code",
   "execution_count": null,
   "metadata": {},
   "outputs": [],
   "source": [
    "from sklearn.model_selection import GridSearchCV\n",
    "parameters = {'n_neighbors': list(range(1, 51))}\n",
    "knn = KNeighborsRegressor()\n",
    "grid = GridSearchCV(\n",
    "    knn,\n",
    "    parameters,\n",
    "    cv = 10,\n",
    "    scoring = 'neg_mean_squared_error',\n",
    "    return_train_score = True,\n",
    "    refit = True\n",
    ")\n",
    "grid.fit(X_train, y_train)\n",
    "print(grid.best_params_)\n",
    "print(grid.cv_results_)"
   ]
  },
  {
   "cell_type": "code",
   "execution_count": null,
   "metadata": {
    "scrolled": true
   },
   "outputs": [],
   "source": [
    "# Training errors\n",
    "mean_cv_train = grid.cv_results_['mean_train_score']\n",
    "rmse_cv_train = np.sqrt(np.abs(mean_cv_train))\n",
    "\n",
    "# Test errors\n",
    "mean_cv_test = grid.cv_results_['mean_test_score']\n",
    "rmse_cv_test = np.sqrt(np.abs(mean_cv_test))\n",
    "\n",
    "# Plotting\n",
    "plt.figure(figsize=(12,6))\n",
    "plt.plot(rmse_cv_train, marker = 'o', linestyle = '--', color = 'red')\n",
    "plt.plot(rmse_cv_test, marker = 'o', linestyle = '--', color = 'green')\n",
    "plt.legend(['Train', 'Test'], loc = (0.8, 0.2))\n",
    "plt.title(\"Cross validation RMSE vs Number of neighbors\")\n",
    "plt.xlabel('Number of neighbors')\n",
    "plt.ylabel('RMSE 10-CV')"
   ]
  },
  {
   "cell_type": "code",
   "execution_count": null,
   "metadata": {},
   "outputs": [],
   "source": [
    "best_knn = grid.best_estimator_\n",
    "best_pred = best_knn.predict(X_test)\n",
    "np.sqrt(mean_squared_error(y_test, best_pred))"
   ]
  },
  {
   "cell_type": "code",
   "execution_count": null,
   "metadata": {},
   "outputs": [],
   "source": [
    "from sklearn.model_selection import RepeatedKFold\n",
    "\n",
    "parameters = {'n_neighbors': list(range(1, 41))}\n",
    "knn = KNeighborsRegressor()\n",
    "grid = GridSearchCV(\n",
    "    knn,\n",
    "    parameters,\n",
    "    cv = RepeatedKFold(n_splits = 10, n_repeats = 30),\n",
    "    scoring = 'neg_mean_squared_error',\n",
    "    return_train_score = True,\n",
    "    refit = True\n",
    ")\n",
    "grid.fit(X_train, y_train)\n",
    "grid.best_params_\n",
    "# grid.cv_results_"
   ]
  }
 ],
 "metadata": {
  "kernelspec": {
   "display_name": "Python 3",
   "language": "python",
   "name": "python3"
  },
  "language_info": {
   "codemirror_mode": {
    "name": "ipython",
    "version": 3
   },
   "file_extension": ".py",
   "mimetype": "text/x-python",
   "name": "python",
   "nbconvert_exporter": "python",
   "pygments_lexer": "ipython3",
   "version": "3.8.5"
  }
 },
 "nbformat": 4,
 "nbformat_minor": 2
}
