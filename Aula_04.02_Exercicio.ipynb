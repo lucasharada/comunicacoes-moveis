{
 "cells": [
  {
   "cell_type": "markdown",
   "metadata": {},
   "source": [
    "### Cheat Sheet - http://pandas.pydata.org/Pandas_Cheat_Sheet.pdf"
   ]
  },
  {
   "cell_type": "markdown",
   "metadata": {},
   "source": [
    "### Exercício\n",
    "------------------\n",
    "1. Importe `numpy` como `np`\n",
    "2. Importe `pandas` como `pd`\n",
    "3. Ajuste o seed do `numpy` para `201`\n",
    "4. Crie uma série `pandas` a partir de um vetor contendo 100 números aleatórios de 0 a 1\n",
    "5. Dadas as séries abaixo:\n",
    "    1. Calcule a **nota percentual** de cada **aluno** nas provas 1 e 2 em relação à **maior nota**\n",
    "    2. Calcule a **nota normalizada** de cada **aluno** nas provas 1 e 2\n",
    "6. Dado o dataframe `df1` abaixo:\n",
    "    1. Calcule a **média** de cada **prova**\n",
    "    2. Calcule a **média** de cada **aluno**\n",
    "    3. Liste os alunos com nota em P2 **abaixo** da média\n",
    "    4. Ordene o *dataframe* por P3\n",
    "    5. Crie um nova coluna com a média do aluno\n",
    "7. Dado o dataframe `df2` abaixo:\n",
    "    1. Selecione as **linhas** sem `NaN`\n",
    "    2. Selecione as **colunas** sem `NaN`\n",
    "8. Dado o dataframe `df3` abaixo:\n",
    "    1. Calcule o **erro médio** de cada **método**\n",
    "    2. Calcule o **erro médio** de cada **cenário**"
   ]
  },
  {
   "cell_type": "code",
   "execution_count": null,
   "metadata": {},
   "outputs": [],
   "source": [
    "# Séries para item (5)\n",
    "serie1 = pd.Series(data=[5, 10, 9], index=['AL01', 'AL02', 'AL03'])\n",
    "serie2 = pd.Series(data=[4, 6, 4], index=['AL01', 'AL02', 'AL03'])"
   ]
  },
  {
   "cell_type": "code",
   "execution_count": null,
   "metadata": {
    "scrolled": true
   },
   "outputs": [],
   "source": [
    "# Dataframe para item (6)\n",
    "np.random.seed(100)\n",
    "dados = np.random.rand(5,3)*10\n",
    "colunas = ['P1', 'P2', 'P3']\n",
    "index = ['AL01', 'AL02', 'AL03', 'AL04', 'AL05']\n",
    "df1 = pd.DataFrame(dados, index, colunas)"
   ]
  },
  {
   "cell_type": "code",
   "execution_count": null,
   "metadata": {},
   "outputs": [],
   "source": [
    "# Dataframe para item (7)\n",
    "df2 = pd.DataFrame({'A':[1,2,np.nan],'B':[2,4,np.nan],'C':[3,4,4],'D':[np.nan,1,2]})"
   ]
  },
  {
   "cell_type": "code",
   "execution_count": null,
   "metadata": {},
   "outputs": [],
   "source": [
    "# Dataframe para item (8)\n",
    "df3 = pd.DataFrame({\n",
    "    'Metodo': ['KNN', 'SVR', 'ANN', 'KNN', 'SVR', 'ANN'],\n",
    "    'Cenario': ['C1', 'C2', 'C1', 'C2', 'C1', 'C2'],\n",
    "    'Erro': [2.1, 2.1, 1.5, 1.7, 1.8, 1.9]\n",
    "})"
   ]
  }
 ],
 "metadata": {
  "kernelspec": {
   "display_name": "Python 3",
   "language": "python",
   "name": "python3"
  },
  "language_info": {
   "codemirror_mode": {
    "name": "ipython",
    "version": 3
   },
   "file_extension": ".py",
   "mimetype": "text/x-python",
   "name": "python",
   "nbconvert_exporter": "python",
   "pygments_lexer": "ipython3",
   "version": "3.8.5"
  }
 },
 "nbformat": 4,
 "nbformat_minor": 2
}
